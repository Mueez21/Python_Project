{
 "cells": [
  {
   "cell_type": "markdown",
   "id": "ce7ef66c-7554-4a33-8506-e6d573a88c6d",
   "metadata": {},
   "source": [
    "# Let say you are a teacher and you have different student records containing id of a student and the marks list in each subject where different students have taken different number of subjects. All these records are in hard copy. You want to enter all the data in computer and want to compute the average marks of each student and display"
   ]
  },
  {
   "cell_type": "code",
   "execution_count": 49,
   "id": "77dc1a8e-8d0f-42c6-80f6-7086eeb8ad75",
   "metadata": {},
   "outputs": [],
   "source": [
    "# This program collects student data (student IDs and their marks) \n",
    "# and calculates the average marks for each student. \n",
    "# It prevents duplicate entries for student IDs and ensures the data is properly handled.\n",
    "\n",
    "def getDataFromUser():\n",
    "    D = {}\n",
    "    while True:\n",
    "        studentId = input(\"Enter student ID: \")\n",
    "        markList = input(\"Enter the marks by comma for each subject: \")\n",
    "        moreStudents = input(\"'Yes/No' to proceed or quit insertion: \")\n",
    "\n",
    "        # Check for duplicate studentId\n",
    "        if studentId in D:\n",
    "            print(studentId, \"is already inserted\")\n",
    "        else:\n",
    "            D[studentId] = markList.split(\",\")\n",
    "        \n",
    "        # Handle whether to continue or quit\n",
    "        if moreStudents.lower() == \"yes\":\n",
    "            continue\n",
    "        elif moreStudents.lower() == \"no\":\n",
    "            return D\n",
    "        else:\n",
    "            print(\"Invalid input! Please enter 'Yes' or 'No'.\")"
   ]
  },
  {
   "cell_type": "code",
   "execution_count": 55,
   "id": "fc5af2f3-bd01-435c-bc86-73b5b915e4d5",
   "metadata": {},
   "outputs": [],
   "source": [
    "def getAvgMarks(D):\n",
    "    avgMarks = {}\n",
    "    for x in D:\n",
    "        L = D[x]\n",
    "        s = 0\n",
    "        for marks in L:\n",
    "            s += int(marks)\n",
    "        avgMarks[x] = s/len(L)\n",
    "    return avgMarks"
   ]
  },
  {
   "cell_type": "code",
   "execution_count": null,
   "id": "709d7899-9cf6-46d6-b44e-42902ded8b3c",
   "metadata": {},
   "outputs": [],
   "source": [
    "avgM = getAvgMarks(studentsData)\n",
    "\n",
    "for x in avgM:\n",
    "    print(\"Student :\",x,\"got avg Marks as: \",avgM[x])"
   ]
  }
 ],
 "metadata": {
  "kernelspec": {
   "display_name": "Python 3 (ipykernel)",
   "language": "python",
   "name": "python3"
  },
  "language_info": {
   "codemirror_mode": {
    "name": "ipython",
    "version": 3
   },
   "file_extension": ".py",
   "mimetype": "text/x-python",
   "name": "python",
   "nbconvert_exporter": "python",
   "pygments_lexer": "ipython3",
   "version": "3.12.7"
  }
 },
 "nbformat": 4,
 "nbformat_minor": 5
}
