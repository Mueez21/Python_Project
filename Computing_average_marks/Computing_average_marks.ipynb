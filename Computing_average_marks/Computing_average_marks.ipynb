{
 "cells": [
  {
   "cell_type": "markdown",
   "id": "93a7dae3-a0f9-4263-8190-68a65007219f",
   "metadata": {},
   "source": [
    "# Let say you are a teacher and you have different student records containing id of a student and the marks list in each subject where different students have taken different number of subjects. All these records are in hard copy. You want to enter all the data in computer and want to compute the average marks of each student and display"
   ]
  },
  {
   "cell_type": "code",
   "execution_count": 4,
   "id": "e66ad2e4-735b-45e5-b651-a456fa80d9cd",
   "metadata": {},
   "outputs": [],
   "source": [
    "# This program collects student data (student IDs and their marks) \n",
    "# and calculates the average marks for each student. \n",
    "# It prevents duplicate entries for student IDs and ensures the data is properly handled.\n",
    "\n",
    "def getDataFromUser():\n",
    "    D = {}\n",
    "    while True:\n",
    "        studentId = input(\"Enter student ID: \")\n",
    "        markList = input(\"Enter the marks by comma for each subject: \")\n",
    "        moreStudents = input(\"'Yes/No' to proceed or quit insertion: \")\n",
    "\n",
    "        # Check for duplicate studentId\n",
    "        if studentId in D:\n",
    "            print(studentId, \"is already inserted\")\n",
    "        else:\n",
    "            D[studentId] = markList.split(\",\")\n",
    "        \n",
    "        # Handle whether to continue or quit\n",
    "        if moreStudents.lower() == \"yes\":\n",
    "            continue\n",
    "        elif moreStudents.lower() == \"no\":\n",
    "            return D\n",
    "        else:\n",
    "            print(\"Invalid input! Please enter 'Yes' or 'No'.\")"
   ]
  },
  {
   "cell_type": "code",
   "execution_count": 6,
   "id": "dd48d44c-f670-4e3d-94ba-8d5434d11331",
   "metadata": {},
   "outputs": [],
   "source": [
    "def getAvgMarks(D):\n",
    "    avgMarks = {}\n",
    "    for x in D:\n",
    "        L = D[x]\n",
    "        s = 0\n",
    "        for marks in L:\n",
    "            s += int(marks)\n",
    "        avgMarks[x] = s/len(L)\n",
    "    return avgMarks"
   ]
  },
  {
   "cell_type": "code",
   "execution_count": null,
   "id": "9984bd9a-74bb-4c18-85c2-f842f2f6ce8e",
   "metadata": {},
   "outputs": [],
   "source": [
    "studentsData = getDataFromUser()\n",
    "avgM = getAvgMarks(studentsData)\n",
    "for x in avgM:\n",
    "    print(\"Student :\",x,\"got avg Marks as: \",avgM[x])"
   ]
  }
 ],
 "metadata": {
  "kernelspec": {
   "display_name": "Python 3 (ipykernel)",
   "language": "python",
   "name": "python3"
  },
  "language_info": {
   "codemirror_mode": {
    "name": "ipython",
    "version": 3
   },
   "file_extension": ".py",
   "mimetype": "text/x-python",
   "name": "python",
   "nbconvert_exporter": "python",
   "pygments_lexer": "ipython3",
   "version": "3.12.7"
  }
 },
 "nbformat": 4,
 "nbformat_minor": 5
}
