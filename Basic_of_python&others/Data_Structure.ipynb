{
 "cells": [
  {
   "cell_type": "markdown",
   "id": "733887d4-8096-47a9-b04e-374a427536e5",
   "metadata": {},
   "source": [
    "# Data Structure"
   ]
  },
  {
   "cell_type": "code",
   "execution_count": 69,
   "id": "36da644f-0a97-4b41-8a33-80ce4c2a9765",
   "metadata": {},
   "outputs": [],
   "source": [
    "L = [1,3,4.9,\"name\",3]\n",
    "T = (1,3,4.9,\"name\",3)\n",
    "S = {1,3,4.9,\"name\",3}\n",
    "D = {23:\"teothree\",\"B\":43,\"C\":\"AAB\"}"
   ]
  },
  {
   "cell_type": "code",
   "execution_count": 7,
   "id": "2e802042-1f3f-4c7d-9895-eaf10fdecb49",
   "metadata": {},
   "outputs": [
    {
     "name": "stdout",
     "output_type": "stream",
     "text": [
      "The type of L is  <class 'list'>\n",
      "The type of T is  <class 'tuple'>\n",
      "The type of S is  <class 'set'>\n",
      "The type of D is  <class 'dict'>\n"
     ]
    }
   ],
   "source": [
    "print (\"The type of L is \",type(L))\n",
    "print (\"The type of T is \",type(T))\n",
    "print (\"The type of S is \",type(S))\n",
    "print (\"The type of D is \",type(D))"
   ]
  },
  {
   "cell_type": "code",
   "execution_count": 17,
   "id": "080c9ad9-e6bf-4338-9b3f-3311596d6fc2",
   "metadata": {},
   "outputs": [
    {
     "name": "stdout",
     "output_type": "stream",
     "text": [
      "3\n",
      "3\n",
      "True\n",
      "43\n"
     ]
    }
   ],
   "source": [
    "print(L[1])\n",
    "print(T[1])\n",
    "print(3 in S)\n",
    "print(D[\"B\"])"
   ]
  },
  {
   "cell_type": "code",
   "execution_count": 19,
   "id": "ade3e1fd-6b03-4168-a16c-f009674dbff5",
   "metadata": {},
   "outputs": [
    {
     "name": "stdout",
     "output_type": "stream",
     "text": [
      "{1, 3, 4.9, 'name'}\n"
     ]
    }
   ],
   "source": [
    "print(S)"
   ]
  },
  {
   "cell_type": "code",
   "execution_count": 21,
   "id": "2fc1b637-7537-4fee-9382-f66b8a64ac25",
   "metadata": {},
   "outputs": [
    {
     "data": {
      "text/plain": [
       "[1, 3, 4.9, 'name', 3]"
      ]
     },
     "execution_count": 21,
     "metadata": {},
     "output_type": "execute_result"
    }
   ],
   "source": [
    "L"
   ]
  },
  {
   "cell_type": "code",
   "execution_count": 23,
   "id": "1fce8062-8ef5-405f-9c1c-75d5eb4f4a7c",
   "metadata": {},
   "outputs": [
    {
     "data": {
      "text/plain": [
       "[3, 4.9]"
      ]
     },
     "execution_count": 23,
     "metadata": {},
     "output_type": "execute_result"
    }
   ],
   "source": [
    "L[1:3]"
   ]
  },
  {
   "cell_type": "code",
   "execution_count": 25,
   "id": "610785fe-a958-40fd-818f-75227280c5f6",
   "metadata": {},
   "outputs": [
    {
     "data": {
      "text/plain": [
       "[3, 'name', 4.9, 3, 1]"
      ]
     },
     "execution_count": 25,
     "metadata": {},
     "output_type": "execute_result"
    }
   ],
   "source": [
    "L[::-1]"
   ]
  },
  {
   "cell_type": "code",
   "execution_count": 27,
   "id": "072fdeda-9b38-47f9-8645-891ff90deced",
   "metadata": {},
   "outputs": [
    {
     "data": {
      "text/plain": [
       "(1, 3, 4.9)"
      ]
     },
     "execution_count": 27,
     "metadata": {},
     "output_type": "execute_result"
    }
   ],
   "source": [
    "T[:3]"
   ]
  },
  {
   "cell_type": "code",
   "execution_count": 47,
   "id": "fdc3d734-1451-4a95-a765-4bc2f2a623ab",
   "metadata": {},
   "outputs": [
    {
     "data": {
      "text/plain": [
       "[1, 3, 4.9, 'name', 3]"
      ]
     },
     "execution_count": 47,
     "metadata": {},
     "output_type": "execute_result"
    }
   ],
   "source": [
    "L"
   ]
  },
  {
   "cell_type": "code",
   "execution_count": 49,
   "id": "a37b2081-ca00-4ac1-b634-472b06503638",
   "metadata": {},
   "outputs": [],
   "source": [
    "L = L + ['How',\"are\",6,\"you\"]"
   ]
  },
  {
   "cell_type": "code",
   "execution_count": 51,
   "id": "92f91ac0-9767-4764-9308-889a1c2f7666",
   "metadata": {},
   "outputs": [
    {
     "data": {
      "text/plain": [
       "[1, 3, 4.9, 'name', 3, 'How', 'are', 6, 'you']"
      ]
     },
     "execution_count": 51,
     "metadata": {},
     "output_type": "execute_result"
    }
   ],
   "source": [
    "L"
   ]
  },
  {
   "cell_type": "code",
   "execution_count": 53,
   "id": "897a64d7-a6a2-4f92-ae91-76600846e20e",
   "metadata": {},
   "outputs": [],
   "source": [
    "L.append(3.9)"
   ]
  },
  {
   "cell_type": "code",
   "execution_count": 55,
   "id": "f0b77770-990f-4356-b864-2e09676695d6",
   "metadata": {},
   "outputs": [
    {
     "data": {
      "text/plain": [
       "[1, 3, 4.9, 'name', 3, 'How', 'are', 6, 'you', 3.9]"
      ]
     },
     "execution_count": 55,
     "metadata": {},
     "output_type": "execute_result"
    }
   ],
   "source": [
    "L"
   ]
  },
  {
   "cell_type": "code",
   "execution_count": 57,
   "id": "21ae76a3-41d9-4331-ae5f-44286a5c1daf",
   "metadata": {},
   "outputs": [],
   "source": [
    "T2 =(\"a\",\"b\",\"c\")\n",
    "T3 = T + T2"
   ]
  },
  {
   "cell_type": "code",
   "execution_count": 59,
   "id": "a0f864ba-1ee9-47fd-8d55-2579311857c5",
   "metadata": {},
   "outputs": [
    {
     "data": {
      "text/plain": [
       "(1, 3, 4.9, 'name', 3, 'a', 'b', 'c')"
      ]
     },
     "execution_count": 59,
     "metadata": {},
     "output_type": "execute_result"
    }
   ],
   "source": [
    "T3"
   ]
  },
  {
   "cell_type": "code",
   "execution_count": 71,
   "id": "1d1d0b48-b520-42c2-bf79-a69b1941b29c",
   "metadata": {},
   "outputs": [],
   "source": [
    "S.add(56)"
   ]
  },
  {
   "cell_type": "code",
   "execution_count": 73,
   "id": "c61b4c9a-4aaf-48b0-a5c0-e7b3f64118c1",
   "metadata": {},
   "outputs": [
    {
     "data": {
      "text/plain": [
       "{1, 3, 4.9, 56, 'name'}"
      ]
     },
     "execution_count": 73,
     "metadata": {},
     "output_type": "execute_result"
    }
   ],
   "source": [
    "S"
   ]
  },
  {
   "cell_type": "code",
   "execution_count": 75,
   "id": "fad92407-31b7-4068-be39-b1c81c75d06e",
   "metadata": {},
   "outputs": [],
   "source": [
    "S.update({23,\"Hi\",90,10})"
   ]
  },
  {
   "cell_type": "code",
   "execution_count": 77,
   "id": "309dee0f-2331-4dbe-9955-a3886f44b984",
   "metadata": {},
   "outputs": [
    {
     "data": {
      "text/plain": [
       "{1, 10, 23, 3, 4.9, 56, 90, 'Hi', 'name'}"
      ]
     },
     "execution_count": 77,
     "metadata": {},
     "output_type": "execute_result"
    }
   ],
   "source": [
    "S"
   ]
  },
  {
   "cell_type": "code",
   "execution_count": 79,
   "id": "b168a13a-8f8a-4071-bffb-c31a68210908",
   "metadata": {},
   "outputs": [
    {
     "data": {
      "text/plain": [
       "{23: 'teothree', 'B': 43, 'C': 'AAB'}"
      ]
     },
     "execution_count": 79,
     "metadata": {},
     "output_type": "execute_result"
    }
   ],
   "source": [
    "D"
   ]
  },
  {
   "cell_type": "code",
   "execution_count": 81,
   "id": "d91655d8-3c44-43a5-b556-76bbda882797",
   "metadata": {},
   "outputs": [],
   "source": [
    "D[\"newkey\"] = \"newValue\""
   ]
  },
  {
   "cell_type": "code",
   "execution_count": 83,
   "id": "9aaa0041-c8aa-471b-ac99-3c9fb6a253ba",
   "metadata": {},
   "outputs": [
    {
     "data": {
      "text/plain": [
       "{23: 'teothree', 'B': 43, 'C': 'AAB', 'newkey': 'newValue'}"
      ]
     },
     "execution_count": 83,
     "metadata": {},
     "output_type": "execute_result"
    }
   ],
   "source": [
    "D"
   ]
  },
  {
   "cell_type": "code",
   "execution_count": 85,
   "id": "694cc06a-f254-4445-8f59-3e9e9c37c2ec",
   "metadata": {},
   "outputs": [
    {
     "ename": "TypeError",
     "evalue": "unsupported operand type(s) for +: 'dict' and 'dict'",
     "output_type": "error",
     "traceback": [
      "\u001b[1;31m---------------------------------------------------------------------------\u001b[0m",
      "\u001b[1;31mTypeError\u001b[0m                                 Traceback (most recent call last)",
      "Cell \u001b[1;32mIn[85], line 2\u001b[0m\n\u001b[0;32m      1\u001b[0m D2 \u001b[38;5;241m=\u001b[39m {\u001b[38;5;124m\"\u001b[39m\u001b[38;5;124my\u001b[39m\u001b[38;5;124m\"\u001b[39m:\u001b[38;5;124m\"\u001b[39m\u001b[38;5;124mYY\u001b[39m\u001b[38;5;124m\"\u001b[39m,\u001b[38;5;124m\"\u001b[39m\u001b[38;5;124mz\u001b[39m\u001b[38;5;124m\"\u001b[39m:\u001b[38;5;241m10\u001b[39m}\n\u001b[1;32m----> 2\u001b[0m D3 \u001b[38;5;241m=\u001b[39m D\u001b[38;5;241m+\u001b[39mD2\n",
      "\u001b[1;31mTypeError\u001b[0m: unsupported operand type(s) for +: 'dict' and 'dict'"
     ]
    }
   ],
   "source": [
    "D2 = {\"y\":\"YY\",\"z\":10}\n",
    "D3 = D+D2"
   ]
  },
  {
   "cell_type": "code",
   "execution_count": 87,
   "id": "e5309905-fd99-4479-9dca-1f6db78afc69",
   "metadata": {},
   "outputs": [],
   "source": [
    "del L[3]"
   ]
  },
  {
   "cell_type": "code",
   "execution_count": 89,
   "id": "a8fb0908-74e9-4de1-8352-82729226731a",
   "metadata": {},
   "outputs": [
    {
     "data": {
      "text/plain": [
       "[1, 3, 4.9, 3]"
      ]
     },
     "execution_count": 89,
     "metadata": {},
     "output_type": "execute_result"
    }
   ],
   "source": [
    "L"
   ]
  },
  {
   "cell_type": "code",
   "execution_count": 93,
   "id": "838c2e96-e564-4790-890c-a384eda869d3",
   "metadata": {},
   "outputs": [],
   "source": [
    "S.remove(\"name\")"
   ]
  },
  {
   "cell_type": "code",
   "execution_count": 95,
   "id": "0cf5f0db-b31d-4665-8f2e-6963b96ed4f1",
   "metadata": {},
   "outputs": [
    {
     "data": {
      "text/plain": [
       "{1, 10, 23, 3, 4.9, 56, 90, 'Hi'}"
      ]
     },
     "execution_count": 95,
     "metadata": {},
     "output_type": "execute_result"
    }
   ],
   "source": [
    "S"
   ]
  },
  {
   "cell_type": "code",
   "execution_count": 97,
   "id": "cb7bc084-4042-4113-84c6-089967660399",
   "metadata": {},
   "outputs": [
    {
     "data": {
      "text/plain": [
       "{23: 'teothree', 'B': 43, 'C': 'AAB', 'newkey': 'newValue'}"
      ]
     },
     "execution_count": 97,
     "metadata": {},
     "output_type": "execute_result"
    }
   ],
   "source": [
    "D"
   ]
  },
  {
   "cell_type": "code",
   "execution_count": 101,
   "id": "51d51e87-21d2-4514-b51d-6fd6252fb984",
   "metadata": {},
   "outputs": [],
   "source": [
    "del D[\"C\"]"
   ]
  },
  {
   "cell_type": "code",
   "execution_count": 103,
   "id": "3a9eb9d7-0080-46c1-acd3-8f5998652c38",
   "metadata": {},
   "outputs": [
    {
     "data": {
      "text/plain": [
       "{23: 'teothree', 'B': 43, 'newkey': 'newValue'}"
      ]
     },
     "execution_count": 103,
     "metadata": {},
     "output_type": "execute_result"
    }
   ],
   "source": [
    "D"
   ]
  },
  {
   "cell_type": "code",
   "execution_count": 105,
   "id": "e5eb316c-8da0-4a0c-8178-0c744ec5f0d6",
   "metadata": {},
   "outputs": [],
   "source": [
    "L2 = L"
   ]
  },
  {
   "cell_type": "code",
   "execution_count": 107,
   "id": "c2be20df-4d21-4618-b70e-0c87c2f9f146",
   "metadata": {},
   "outputs": [
    {
     "data": {
      "text/plain": [
       "[1, 3, 4.9, 3]"
      ]
     },
     "execution_count": 107,
     "metadata": {},
     "output_type": "execute_result"
    }
   ],
   "source": [
    "L2"
   ]
  },
  {
   "cell_type": "code",
   "execution_count": 109,
   "id": "a20f1570-9e37-4b02-bb71-35a84e701429",
   "metadata": {},
   "outputs": [],
   "source": [
    "L2[3]=\"tree\""
   ]
  },
  {
   "cell_type": "code",
   "execution_count": 111,
   "id": "7990bc84-c468-4d7c-8d3d-2762d945e67c",
   "metadata": {},
   "outputs": [
    {
     "data": {
      "text/plain": [
       "[1, 3, 4.9, 'tree']"
      ]
     },
     "execution_count": 111,
     "metadata": {},
     "output_type": "execute_result"
    }
   ],
   "source": [
    "L2"
   ]
  },
  {
   "cell_type": "code",
   "execution_count": 113,
   "id": "74703762-6234-46bf-9839-3967e74cb40a",
   "metadata": {},
   "outputs": [
    {
     "data": {
      "text/plain": [
       "[1, 3, 4.9, 'tree']"
      ]
     },
     "execution_count": 113,
     "metadata": {},
     "output_type": "execute_result"
    }
   ],
   "source": [
    "L"
   ]
  },
  {
   "cell_type": "code",
   "execution_count": 115,
   "id": "3585f95a-7ac1-4e3e-a38a-7e6cf37ef296",
   "metadata": {},
   "outputs": [],
   "source": [
    "L2 = L.copy()"
   ]
  },
  {
   "cell_type": "code",
   "execution_count": 117,
   "id": "2237908b-535b-4c48-afb8-58983589cee1",
   "metadata": {},
   "outputs": [
    {
     "data": {
      "text/plain": [
       "[1, 3, 4.9, 'tree']"
      ]
     },
     "execution_count": 117,
     "metadata": {},
     "output_type": "execute_result"
    }
   ],
   "source": [
    "L2"
   ]
  },
  {
   "cell_type": "code",
   "execution_count": 119,
   "id": "643a54d1-7380-4872-9353-a54260b77ab3",
   "metadata": {},
   "outputs": [],
   "source": [
    "L2[3]=\"mine\""
   ]
  },
  {
   "cell_type": "code",
   "execution_count": 121,
   "id": "2ce27286-2c17-4f5c-aa54-0ccd7c40dc59",
   "metadata": {},
   "outputs": [
    {
     "data": {
      "text/plain": [
       "[1, 3, 4.9, 'mine']"
      ]
     },
     "execution_count": 121,
     "metadata": {},
     "output_type": "execute_result"
    }
   ],
   "source": [
    "L2"
   ]
  },
  {
   "cell_type": "code",
   "execution_count": 123,
   "id": "e4bc6d36-773a-409a-a9a3-f3b4edeca557",
   "metadata": {},
   "outputs": [
    {
     "data": {
      "text/plain": [
       "[1, 3, 4.9, 'tree']"
      ]
     },
     "execution_count": 123,
     "metadata": {},
     "output_type": "execute_result"
    }
   ],
   "source": [
    "L"
   ]
  },
  {
   "cell_type": "code",
   "execution_count": 125,
   "id": "ea3e1925-ca9a-4765-ae42-a31d96e983af",
   "metadata": {},
   "outputs": [
    {
     "data": {
      "text/plain": [
       "\u001b[1;31mSignature:\u001b[0m \u001b[0mL\u001b[0m\u001b[1;33m.\u001b[0m\u001b[0mpop\u001b[0m\u001b[1;33m(\u001b[0m\u001b[0mindex\u001b[0m\u001b[1;33m=\u001b[0m\u001b[1;33m-\u001b[0m\u001b[1;36m1\u001b[0m\u001b[1;33m,\u001b[0m \u001b[1;33m/\u001b[0m\u001b[1;33m)\u001b[0m\u001b[1;33m\u001b[0m\u001b[1;33m\u001b[0m\u001b[0m\n",
       "\u001b[1;31mDocstring:\u001b[0m\n",
       "Remove and return item at index (default last).\n",
       "\n",
       "Raises IndexError if list is empty or index is out of range.\n",
       "\u001b[1;31mType:\u001b[0m      builtin_function_or_method"
      ]
     },
     "metadata": {},
     "output_type": "display_data"
    }
   ],
   "source": [
    "L.pop??\n"
   ]
  },
  {
   "cell_type": "code",
   "execution_count": 127,
   "id": "882f0147-9b19-46cb-927e-d91194a0fb08",
   "metadata": {},
   "outputs": [
    {
     "data": {
      "text/plain": [
       "\u001b[1;31mSignature:\u001b[0m \u001b[0mL\u001b[0m\u001b[1;33m.\u001b[0m\u001b[0mappend\u001b[0m\u001b[1;33m(\u001b[0m\u001b[0mobject\u001b[0m\u001b[1;33m,\u001b[0m \u001b[1;33m/\u001b[0m\u001b[1;33m)\u001b[0m\u001b[1;33m\u001b[0m\u001b[1;33m\u001b[0m\u001b[0m\n",
       "\u001b[1;31mDocstring:\u001b[0m Append object to the end of the list.\n",
       "\u001b[1;31mType:\u001b[0m      builtin_function_or_method"
      ]
     },
     "metadata": {},
     "output_type": "display_data"
    }
   ],
   "source": [
    "L.append??"
   ]
  },
  {
   "cell_type": "code",
   "execution_count": 131,
   "id": "a65974a0-71cb-4807-93a0-1dddf3f794d2",
   "metadata": {},
   "outputs": [
    {
     "data": {
      "text/plain": [
       "\u001b[1;31mSignature:\u001b[0m \u001b[0mL\u001b[0m\u001b[1;33m.\u001b[0m\u001b[0mclear\u001b[0m\u001b[1;33m(\u001b[0m\u001b[1;33m)\u001b[0m\u001b[1;33m\u001b[0m\u001b[1;33m\u001b[0m\u001b[0m\n",
       "\u001b[1;31mDocstring:\u001b[0m Remove all items from list.\n",
       "\u001b[1;31mType:\u001b[0m      builtin_function_or_method"
      ]
     },
     "metadata": {},
     "output_type": "display_data"
    }
   ],
   "source": [
    "L.clear?"
   ]
  },
  {
   "cell_type": "code",
   "execution_count": 133,
   "id": "1512672a-0d96-426a-a62a-949b13476dba",
   "metadata": {},
   "outputs": [
    {
     "data": {
      "text/plain": [
       "\u001b[1;31mSignature:\u001b[0m \u001b[0mL\u001b[0m\u001b[1;33m.\u001b[0m\u001b[0mpop\u001b[0m\u001b[1;33m(\u001b[0m\u001b[0mindex\u001b[0m\u001b[1;33m=\u001b[0m\u001b[1;33m-\u001b[0m\u001b[1;36m1\u001b[0m\u001b[1;33m,\u001b[0m \u001b[1;33m/\u001b[0m\u001b[1;33m)\u001b[0m\u001b[1;33m\u001b[0m\u001b[1;33m\u001b[0m\u001b[0m\n",
       "\u001b[1;31mDocstring:\u001b[0m\n",
       "Remove and return item at index (default last).\n",
       "\n",
       "Raises IndexError if list is empty or index is out of range.\n",
       "\u001b[1;31mType:\u001b[0m      builtin_function_or_method"
      ]
     },
     "metadata": {},
     "output_type": "display_data"
    }
   ],
   "source": [
    "L.pop??"
   ]
  },
  {
   "cell_type": "code",
   "execution_count": 135,
   "id": "a1b65407-e988-4ecf-8390-0da8a43d8876",
   "metadata": {},
   "outputs": [
    {
     "data": {
      "text/plain": [
       "['tree', 4.9, 3, 1]"
      ]
     },
     "execution_count": 135,
     "metadata": {},
     "output_type": "execute_result"
    }
   ],
   "source": [
    "L.reverse()\n",
    "L"
   ]
  },
  {
   "cell_type": "code",
   "execution_count": 137,
   "id": "62750ca5-06bb-4614-babb-3606369f3e43",
   "metadata": {},
   "outputs": [
    {
     "data": {
      "text/plain": [
       "\u001b[1;31mDocstring:\u001b[0m D.items() -> a set-like object providing a view on D's items\n",
       "\u001b[1;31mType:\u001b[0m      builtin_function_or_method"
      ]
     },
     "metadata": {},
     "output_type": "display_data"
    }
   ],
   "source": [
    "D.items??\n"
   ]
  },
  {
   "cell_type": "code",
   "execution_count": 139,
   "id": "4d38af86-5667-4f71-a32f-efed117d625e",
   "metadata": {},
   "outputs": [
    {
     "data": {
      "text/plain": [
       "dict_items([(23, 'teothree'), ('B', 43), ('newkey', 'newValue')])"
      ]
     },
     "execution_count": 139,
     "metadata": {},
     "output_type": "execute_result"
    }
   ],
   "source": [
    "D.items()"
   ]
  },
  {
   "cell_type": "code",
   "execution_count": 141,
   "id": "b737878c-1912-40a3-80ce-badae8f97725",
   "metadata": {},
   "outputs": [
    {
     "data": {
      "text/plain": [
       "['tree', 4.9, 3, 1]"
      ]
     },
     "execution_count": 141,
     "metadata": {},
     "output_type": "execute_result"
    }
   ],
   "source": [
    "L"
   ]
  },
  {
   "cell_type": "code",
   "execution_count": 143,
   "id": "08792a1a-182f-4628-a4c9-4b02499e79ec",
   "metadata": {},
   "outputs": [
    {
     "data": {
      "text/plain": [
       "{1, 10, 23, 3, 4.9, 56, 90, 'Hi'}"
      ]
     },
     "execution_count": 143,
     "metadata": {},
     "output_type": "execute_result"
    }
   ],
   "source": [
    "S"
   ]
  },
  {
   "cell_type": "code",
   "execution_count": 145,
   "id": "70affbb4-1461-4114-bcf5-5659f043919c",
   "metadata": {},
   "outputs": [
    {
     "data": {
      "text/plain": [
       "{23: 'teothree', 'B': 43, 'newkey': 'newValue'}"
      ]
     },
     "execution_count": 145,
     "metadata": {},
     "output_type": "execute_result"
    }
   ],
   "source": [
    "D"
   ]
  },
  {
   "cell_type": "code",
   "execution_count": 147,
   "id": "62004d87-4f8e-4998-a939-68c422be373c",
   "metadata": {},
   "outputs": [
    {
     "data": {
      "text/plain": [
       "(1, 3, 4.9, 'name', 3)"
      ]
     },
     "execution_count": 147,
     "metadata": {},
     "output_type": "execute_result"
    }
   ],
   "source": [
    "T"
   ]
  },
  {
   "cell_type": "code",
   "execution_count": 151,
   "id": "b9c7a64e-01bc-4882-ab81-94c633e1e667",
   "metadata": {},
   "outputs": [],
   "source": [
    "D2 = {'A':L, \"B\":T, \"C\" : S, \"D\":D }"
   ]
  },
  {
   "cell_type": "code",
   "execution_count": 153,
   "id": "4abdafba-528b-4536-bc83-7f8bb571fdd5",
   "metadata": {},
   "outputs": [
    {
     "data": {
      "text/plain": [
       "{'A': ['tree', 4.9, 3, 1],\n",
       " 'B': (1, 3, 4.9, 'name', 3),\n",
       " 'C': {1, 10, 23, 3, 4.9, 56, 90, 'Hi'},\n",
       " 'D': {23: 'teothree', 'B': 43, 'newkey': 'newValue'}}"
      ]
     },
     "execution_count": 153,
     "metadata": {},
     "output_type": "execute_result"
    }
   ],
   "source": [
    "D2"
   ]
  },
  {
   "cell_type": "code",
   "execution_count": 155,
   "id": "89bf4d31-d3b4-49f7-b9bb-5a67f8dd69f9",
   "metadata": {},
   "outputs": [
    {
     "data": {
      "text/plain": [
       "['tree', 4.9, 3, 1]"
      ]
     },
     "execution_count": 155,
     "metadata": {},
     "output_type": "execute_result"
    }
   ],
   "source": [
    "D2[\"A\"]"
   ]
  },
  {
   "cell_type": "code",
   "execution_count": 157,
   "id": "4ea6b4b1-a2e4-4d7c-8cbe-2a9780b20096",
   "metadata": {},
   "outputs": [
    {
     "data": {
      "text/plain": [
       "1"
      ]
     },
     "execution_count": 157,
     "metadata": {},
     "output_type": "execute_result"
    }
   ],
   "source": [
    "D2[\"A\"][3]"
   ]
  },
  {
   "cell_type": "code",
   "execution_count": 161,
   "id": "abd55e95-2779-424e-bd81-eeee20310b75",
   "metadata": {},
   "outputs": [],
   "source": [
    "K = D2[\"D\"]"
   ]
  },
  {
   "cell_type": "code",
   "execution_count": 163,
   "id": "3c814b45-4af0-4fbb-814a-9923aa733e94",
   "metadata": {},
   "outputs": [
    {
     "data": {
      "text/plain": [
       "{23: 'teothree', 'B': 43, 'newkey': 'newValue'}"
      ]
     },
     "execution_count": 163,
     "metadata": {},
     "output_type": "execute_result"
    }
   ],
   "source": [
    "K"
   ]
  },
  {
   "cell_type": "code",
   "execution_count": 165,
   "id": "e96dc95a-1894-450a-84e5-64be2f7bb31c",
   "metadata": {},
   "outputs": [
    {
     "name": "stdout",
     "output_type": "stream",
     "text": [
      "23 teothree\n",
      "B 43\n",
      "newkey newValue\n"
     ]
    }
   ],
   "source": [
    "for x in K:\n",
    "    print(x,K[x])"
   ]
  },
  {
   "cell_type": "code",
   "execution_count": 167,
   "id": "9d638137-926c-4e91-adfb-7b10b191a93f",
   "metadata": {},
   "outputs": [],
   "source": [
    "L3 = [L,T,D,23,\"game\"]"
   ]
  },
  {
   "cell_type": "code",
   "execution_count": 169,
   "id": "d5f5349e-384f-4a4c-8e48-12e1c1469549",
   "metadata": {},
   "outputs": [
    {
     "data": {
      "text/plain": [
       "[['tree', 4.9, 3, 1],\n",
       " (1, 3, 4.9, 'name', 3),\n",
       " {23: 'teothree', 'B': 43, 'newkey': 'newValue'},\n",
       " 23,\n",
       " 'game']"
      ]
     },
     "execution_count": 169,
     "metadata": {},
     "output_type": "execute_result"
    }
   ],
   "source": [
    "L3"
   ]
  },
  {
   "cell_type": "code",
   "execution_count": 171,
   "id": "3fceeb6e-9e80-4d6f-8ba3-98767158466d",
   "metadata": {},
   "outputs": [
    {
     "data": {
      "text/plain": [
       "list"
      ]
     },
     "execution_count": 171,
     "metadata": {},
     "output_type": "execute_result"
    }
   ],
   "source": [
    "type(L3)"
   ]
  },
  {
   "cell_type": "code",
   "execution_count": 173,
   "id": "7255d874-6ca0-4c6b-b783-14105edc44b8",
   "metadata": {},
   "outputs": [
    {
     "data": {
      "text/plain": [
       "dict"
      ]
     },
     "execution_count": 173,
     "metadata": {},
     "output_type": "execute_result"
    }
   ],
   "source": [
    "type(L3[2])"
   ]
  },
  {
   "cell_type": "code",
   "execution_count": 175,
   "id": "f14100d0-68ee-41c2-b032-a941397aac26",
   "metadata": {},
   "outputs": [],
   "source": [
    "L3 = [x**2 for x in range(10)]"
   ]
  },
  {
   "cell_type": "code",
   "execution_count": 177,
   "id": "3bbc1ab6-cab4-467a-b96a-ab6bb0b82bae",
   "metadata": {},
   "outputs": [
    {
     "data": {
      "text/plain": [
       "[0, 1, 4, 9, 16, 25, 36, 49, 64, 81]"
      ]
     },
     "execution_count": 177,
     "metadata": {},
     "output_type": "execute_result"
    }
   ],
   "source": [
    "L3"
   ]
  },
  {
   "cell_type": "code",
   "execution_count": 179,
   "id": "999247ce-4074-436f-97f1-fe7743188a6c",
   "metadata": {},
   "outputs": [
    {
     "data": {
      "text/plain": [
       "{4, 25, 64, 121, 196, 289}"
      ]
     },
     "execution_count": 179,
     "metadata": {},
     "output_type": "execute_result"
    }
   ],
   "source": [
    "S3 ={x**2 for x in range(2,20,3)}\n",
    "S3"
   ]
  },
  {
   "cell_type": "code",
   "execution_count": null,
   "id": "a13b35fa-44aa-456d-92db-6aa38ca59300",
   "metadata": {},
   "outputs": [],
   "source": []
  }
 ],
 "metadata": {
  "kernelspec": {
   "display_name": "Python 3 (ipykernel)",
   "language": "python",
   "name": "python3"
  },
  "language_info": {
   "codemirror_mode": {
    "name": "ipython",
    "version": 3
   },
   "file_extension": ".py",
   "mimetype": "text/x-python",
   "name": "python",
   "nbconvert_exporter": "python",
   "pygments_lexer": "ipython3",
   "version": "3.12.7"
  }
 },
 "nbformat": 4,
 "nbformat_minor": 5
}
