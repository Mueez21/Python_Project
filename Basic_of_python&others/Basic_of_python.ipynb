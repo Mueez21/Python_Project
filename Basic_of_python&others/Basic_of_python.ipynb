{
 "cells": [
  {
   "cell_type": "markdown",
   "id": "ecb132d1-28d9-489f-b062-543751b410c2",
   "metadata": {},
   "source": [
    "# Basic Python Code"
   ]
  },
  {
   "cell_type": "code",
   "execution_count": 5,
   "id": "9e09de03-6a89-4488-a95b-a902cd6df737",
   "metadata": {},
   "outputs": [],
   "source": [
    "a = 20\n",
    "b = 30"
   ]
  },
  {
   "cell_type": "code",
   "execution_count": 7,
   "id": "01a6fb5b-3294-4535-a010-57d597c87475",
   "metadata": {},
   "outputs": [
    {
     "name": "stdout",
     "output_type": "stream",
     "text": [
      "Variable               Type        Data/Info\n",
      "--------------------------------------------\n",
      "a                      int         20\n",
      "b                      int         30\n",
      "dataframe_columns      function    <function dataframe_colum<...>ns at 0x00000170587B8B80>\n",
      "dataframe_hash         function    <function dataframe_hash at 0x00000170587B8D60>\n",
      "dtypes_str             function    <function dtypes_str at 0x00000170587B8AE0>\n",
      "get_dataframes         function    <function get_dataframes at 0x000001705713D440>\n",
      "getpass                module      <module 'getpass' from 'C<...>conda3\\\\Lib\\\\getpass.py'>\n",
      "hashlib                module      <module 'hashlib' from 'C<...>conda3\\\\Lib\\\\hashlib.py'>\n",
      "import_pandas_safely   function    <function import_pandas_s<...>ly at 0x00000170587B8F40>\n",
      "is_data_frame          function    <function is_data_frame at 0x00000170587B8FE0>\n",
      "json                   module      <module 'json' from 'C:\\\\<...>\\Lib\\\\json\\\\__init__.py'>\n"
     ]
    }
   ],
   "source": [
    "%whos"
   ]
  },
  {
   "cell_type": "markdown",
   "id": "6d5563a9-583e-4f73-ac1c-06091ce9550e",
   "metadata": {},
   "source": []
  },
  {
   "cell_type": "markdown",
   "id": "e8373727-ed32-4967-8dcb-75ea22ad7e95",
   "metadata": {},
   "source": [
    "# Bool"
   ]
  },
  {
   "cell_type": "code",
   "execution_count": 1,
   "id": "4a70bdbf-ceed-4932-aaca-08ad7ac2ab1f",
   "metadata": {},
   "outputs": [],
   "source": [
    "a = True\n",
    "b = True\n",
    "c = False"
   ]
  },
  {
   "cell_type": "code",
   "execution_count": 3,
   "id": "7e8d3f64-6d97-4d54-a4e2-7b2538a6b393",
   "metadata": {},
   "outputs": [
    {
     "name": "stdout",
     "output_type": "stream",
     "text": [
      "Variable               Type        Data/Info\n",
      "--------------------------------------------\n",
      "a                      bool        True\n",
      "b                      bool        True\n",
      "c                      bool        False\n",
      "dataframe_columns      function    <function dataframe_colum<...>ns at 0x00000194094DDEE0>\n",
      "dataframe_hash         function    <function dataframe_hash at 0x00000194094DD800>\n",
      "dtypes_str             function    <function dtypes_str at 0x00000194094DD620>\n",
      "get_dataframes         function    <function get_dataframes at 0x000001940AB5B7E0>\n",
      "getpass                module      <module 'getpass' from 'C<...>conda3\\\\Lib\\\\getpass.py'>\n",
      "hashlib                module      <module 'hashlib' from 'C<...>conda3\\\\Lib\\\\hashlib.py'>\n",
      "import_pandas_safely   function    <function import_pandas_s<...>ly at 0x00000194094DDF80>\n",
      "is_data_frame          function    <function is_data_frame at 0x00000194094DDE40>\n",
      "json                   module      <module 'json' from 'C:\\\\<...>\\Lib\\\\json\\\\__init__.py'>\n"
     ]
    }
   ],
   "source": [
    "%whos"
   ]
  },
  {
   "cell_type": "code",
   "execution_count": 5,
   "id": "9ab6c37b-e605-4a26-a077-d297fb32ab63",
   "metadata": {},
   "outputs": [
    {
     "name": "stdout",
     "output_type": "stream",
     "text": [
      "True\n",
      "False\n",
      "False\n"
     ]
    }
   ],
   "source": [
    "print (a and b)\n",
    "print (a and c)\n",
    "print(c and a)"
   ]
  },
  {
   "cell_type": "code",
   "execution_count": 7,
   "id": "de3ebd6a-bf31-43f6-921a-f21ed981cd04",
   "metadata": {},
   "outputs": [
    {
     "name": "stdout",
     "output_type": "stream",
     "text": [
      "True\n"
     ]
    }
   ],
   "source": [
    "d = a or c\n",
    "print(d)"
   ]
  },
  {
   "cell_type": "code",
   "execution_count": 11,
   "id": "9602fee6-2aca-4bc7-a352-4c782ccfe7af",
   "metadata": {},
   "outputs": [
    {
     "data": {
      "text/plain": [
       "False"
      ]
     },
     "execution_count": 11,
     "metadata": {},
     "output_type": "execute_result"
    }
   ],
   "source": [
    "not(a)"
   ]
  },
  {
   "cell_type": "code",
   "execution_count": 13,
   "id": "88254f17-0647-45ad-980d-dad9d8cccd1b",
   "metadata": {},
   "outputs": [
    {
     "data": {
      "text/plain": [
       "False"
      ]
     },
     "execution_count": 13,
     "metadata": {},
     "output_type": "execute_result"
    }
   ],
   "source": [
    "not(b)"
   ]
  },
  {
   "cell_type": "code",
   "execution_count": 15,
   "id": "2117a723-3d23-461e-b5d2-b74ca4a00989",
   "metadata": {},
   "outputs": [
    {
     "data": {
      "text/plain": [
       "True"
      ]
     },
     "execution_count": 15,
     "metadata": {},
     "output_type": "execute_result"
    }
   ],
   "source": [
    "not(c)"
   ]
  },
  {
   "cell_type": "code",
   "execution_count": 17,
   "id": "66f62b1e-2798-4e3b-ab53-23c3bb3ee2f8",
   "metadata": {},
   "outputs": [
    {
     "data": {
      "text/plain": [
       "False"
      ]
     },
     "execution_count": 17,
     "metadata": {},
     "output_type": "execute_result"
    }
   ],
   "source": [
    "not((a and b) or (c and d))"
   ]
  },
  {
   "cell_type": "markdown",
   "id": "c20ba2ff-6121-4060-9e37-2b8fc09234b2",
   "metadata": {},
   "source": [
    "# Comperison"
   ]
  },
  {
   "cell_type": "code",
   "execution_count": 20,
   "id": "70f7ce5b-614e-4540-9d34-0c35c0ff92bf",
   "metadata": {},
   "outputs": [
    {
     "name": "stdout",
     "output_type": "stream",
     "text": [
      "True\n"
     ]
    }
   ],
   "source": [
    "print(2<3)"
   ]
  },
  {
   "cell_type": "code",
   "execution_count": 22,
   "id": "e2489604-073d-4a1b-a59c-57c59d5c0962",
   "metadata": {},
   "outputs": [
    {
     "name": "stdout",
     "output_type": "stream",
     "text": [
      "<class 'bool'>\n",
      "True\n"
     ]
    }
   ],
   "source": [
    "c = 2<3\n",
    "print(type(c))\n",
    "print(c)"
   ]
  },
  {
   "cell_type": "code",
   "execution_count": 24,
   "id": "659c0d09-9742-4216-8426-8f8a35cb1265",
   "metadata": {},
   "outputs": [
    {
     "name": "stdout",
     "output_type": "stream",
     "text": [
      "False\n",
      "<class 'bool'>\n"
     ]
    }
   ],
   "source": [
    "d = 3==4\n",
    "print(d)\n",
    "print(type(d))"
   ]
  },
  {
   "cell_type": "code",
   "execution_count": 26,
   "id": "6bb955e4-55af-4d03-8936-d3d71782ccdb",
   "metadata": {},
   "outputs": [
    {
     "data": {
      "text/plain": [
       "True"
      ]
     },
     "execution_count": 26,
     "metadata": {},
     "output_type": "execute_result"
    }
   ],
   "source": [
    "3 == 3.00"
   ]
  },
  {
   "cell_type": "code",
   "execution_count": 34,
   "id": "94b41980-05d8-48bf-80c6-ea0f0b2129f8",
   "metadata": {},
   "outputs": [],
   "source": [
    "x = 4\n",
    "y =9\n",
    "z=8.3\n",
    "r=-3"
   ]
  },
  {
   "cell_type": "code",
   "execution_count": 36,
   "id": "44023dce-fb0d-421e-bb2e-b3c3f72f67ba",
   "metadata": {},
   "outputs": [
    {
     "data": {
      "text/plain": [
       "True"
      ]
     },
     "execution_count": 36,
     "metadata": {},
     "output_type": "execute_result"
    }
   ],
   "source": [
    "(x<y) and (z<y) or (r==x)"
   ]
  },
  {
   "cell_type": "code",
   "execution_count": 38,
   "id": "c04dcd8a-b149-46b7-9d6c-e9ce61ac2fc2",
   "metadata": {},
   "outputs": [
    {
     "data": {
      "text/plain": [
       "False"
      ]
     },
     "execution_count": 38,
     "metadata": {},
     "output_type": "execute_result"
    }
   ],
   "source": [
    "(r==x) and (x<y) or (z>y) "
   ]
  },
  {
   "cell_type": "code",
   "execution_count": 40,
   "id": "aaabdacd-5dd4-45d3-b2cd-cdefb0989262",
   "metadata": {},
   "outputs": [
    {
     "data": {
      "text/plain": [
       "False"
      ]
     },
     "execution_count": 40,
     "metadata": {},
     "output_type": "execute_result"
    }
   ],
   "source": [
    "False or False and True"
   ]
  },
  {
   "cell_type": "code",
   "execution_count": 42,
   "id": "4ea04a66-819a-4000-882e-e4fef1ca4095",
   "metadata": {},
   "outputs": [
    {
     "data": {
      "text/plain": [
       "True"
      ]
     },
     "execution_count": 42,
     "metadata": {},
     "output_type": "execute_result"
    }
   ],
   "source": [
    "True or False and True"
   ]
  },
  {
   "cell_type": "code",
   "execution_count": 44,
   "id": "c6a8fb03-0559-4ded-bfc1-05fb8181e080",
   "metadata": {},
   "outputs": [
    {
     "data": {
      "text/plain": [
       "True"
      ]
     },
     "execution_count": 44,
     "metadata": {},
     "output_type": "execute_result"
    }
   ],
   "source": [
    "True or False and False"
   ]
  },
  {
   "cell_type": "code",
   "execution_count": 46,
   "id": "cb4a8f09-8c25-469c-b152-3b118b397d5f",
   "metadata": {},
   "outputs": [
    {
     "name": "stdout",
     "output_type": "stream",
     "text": [
      "False\n"
     ]
    }
   ],
   "source": [
    "print((not(2!=3)and True)or(False and True))"
   ]
  },
  {
   "cell_type": "markdown",
   "id": "77c9ff2f-830b-419f-9f7d-600d0dca01d6",
   "metadata": {},
   "source": [
    "# Useful Function"
   ]
  },
  {
   "cell_type": "code",
   "execution_count": 49,
   "id": "27ba4ac1-b89e-4a25-881a-54afd8c256b1",
   "metadata": {},
   "outputs": [
    {
     "name": "stdout",
     "output_type": "stream",
     "text": [
      "5\n"
     ]
    }
   ],
   "source": [
    "print(round(4.556))"
   ]
  },
  {
   "cell_type": "code",
   "execution_count": 51,
   "id": "95c37e8a-83b8-49df-bdb6-186070b13924",
   "metadata": {},
   "outputs": [
    {
     "name": "stdout",
     "output_type": "stream",
     "text": [
      "4.557\n"
     ]
    }
   ],
   "source": [
    "print(round(4.55678,3))"
   ]
  },
  {
   "cell_type": "code",
   "execution_count": 57,
   "id": "9e58a72f-2683-41bb-adfe-f05d51a48f3b",
   "metadata": {},
   "outputs": [
    {
     "name": "stdout",
     "output_type": "stream",
     "text": [
      "<class 'tuple'>\n"
     ]
    }
   ],
   "source": [
    "g=divmod(27,5)\n",
    "print(type(g))"
   ]
  },
  {
   "cell_type": "code",
   "execution_count": 59,
   "id": "6e60084e-66f4-4a28-b3eb-8826f19be128",
   "metadata": {},
   "outputs": [
    {
     "data": {
      "text/plain": [
       "5"
      ]
     },
     "execution_count": 59,
     "metadata": {},
     "output_type": "execute_result"
    }
   ],
   "source": [
    "g[0]"
   ]
  },
  {
   "cell_type": "code",
   "execution_count": 63,
   "id": "10fe0aa8-2192-4389-b21a-ac089a96a55f",
   "metadata": {},
   "outputs": [
    {
     "name": "stdout",
     "output_type": "stream",
     "text": [
      "(7.0, 1.5)\n"
     ]
    }
   ],
   "source": [
    "print(divmod(22.5,3))"
   ]
  },
  {
   "cell_type": "code",
   "execution_count": 65,
   "id": "a5354c47-4487-4818-a57c-ade2a3649d56",
   "metadata": {},
   "outputs": [
    {
     "name": "stdout",
     "output_type": "stream",
     "text": [
      "True\n"
     ]
    }
   ],
   "source": [
    "print(isinstance(1,int))"
   ]
  },
  {
   "cell_type": "code",
   "execution_count": 69,
   "id": "f327a467-34dc-4318-b1f7-a4952efb13aa",
   "metadata": {},
   "outputs": [
    {
     "name": "stdout",
     "output_type": "stream",
     "text": [
      "True\n"
     ]
    }
   ],
   "source": [
    "print(isinstance(1.2,(int,float)))"
   ]
  },
  {
   "cell_type": "code",
   "execution_count": 71,
   "id": "539db90a-f258-41db-827d-8a9f60498cfe",
   "metadata": {},
   "outputs": [
    {
     "name": "stdout",
     "output_type": "stream",
     "text": [
      "True\n"
     ]
    }
   ],
   "source": [
    "print(isinstance(1.2+3j,(int,complex,float)))"
   ]
  },
  {
   "cell_type": "code",
   "execution_count": 73,
   "id": "21f1d377-e88e-40ce-99d1-5219a2377ebe",
   "metadata": {},
   "outputs": [
    {
     "data": {
      "text/plain": [
       "1"
      ]
     },
     "execution_count": 73,
     "metadata": {},
     "output_type": "execute_result"
    }
   ],
   "source": [
    "pow(2,4,3)"
   ]
  },
  {
   "cell_type": "code",
   "execution_count": 75,
   "id": "fcfcb424-09ea-48d2-b127-a266bce7b64b",
   "metadata": {},
   "outputs": [
    {
     "name": "stdin",
     "output_type": "stream",
     "text": [
      "Enter a num : 56\n"
     ]
    }
   ],
   "source": [
    "x= input(\"Enter a num :\")"
   ]
  },
  {
   "cell_type": "code",
   "execution_count": 77,
   "id": "a89d472a-1c46-462a-9f0d-2898da71a97d",
   "metadata": {},
   "outputs": [
    {
     "data": {
      "text/plain": [
       "str"
      ]
     },
     "execution_count": 77,
     "metadata": {},
     "output_type": "execute_result"
    }
   ],
   "source": [
    "type(x)"
   ]
  },
  {
   "cell_type": "code",
   "execution_count": 79,
   "id": "828e6c65-ceec-4d66-a4bc-24578275d803",
   "metadata": {},
   "outputs": [],
   "source": [
    "x = int(x)"
   ]
  },
  {
   "cell_type": "code",
   "execution_count": 81,
   "id": "7129f566-4dca-44a5-90c1-997343b2c3d2",
   "metadata": {},
   "outputs": [
    {
     "data": {
      "text/plain": [
       "int"
      ]
     },
     "execution_count": 81,
     "metadata": {},
     "output_type": "execute_result"
    }
   ],
   "source": [
    "type(x)"
   ]
  },
  {
   "cell_type": "code",
   "execution_count": 83,
   "id": "54ae1425-4c3a-42b6-a0b9-c121919ec3dd",
   "metadata": {},
   "outputs": [
    {
     "name": "stdout",
     "output_type": "stream",
     "text": [
      "36\n"
     ]
    }
   ],
   "source": [
    "print(x-20)"
   ]
  },
  {
   "cell_type": "code",
   "execution_count": 85,
   "id": "ea2fce08-8b49-4f18-9652-21334897fe17",
   "metadata": {},
   "outputs": [
    {
     "name": "stdin",
     "output_type": "stream",
     "text": [
      "Enter a real num: 56\n"
     ]
    }
   ],
   "source": [
    "a = float(input(\"Enter a real num:\"))"
   ]
  },
  {
   "cell_type": "code",
   "execution_count": 87,
   "id": "b1d05cbc-1271-46cf-b70f-9e9b3a748420",
   "metadata": {},
   "outputs": [
    {
     "data": {
      "text/plain": [
       "float"
      ]
     },
     "execution_count": 87,
     "metadata": {},
     "output_type": "execute_result"
    }
   ],
   "source": [
    "type(a)"
   ]
  },
  {
   "cell_type": "code",
   "execution_count": 89,
   "id": "99373875-0fb7-46a9-8a04-13e28040e61e",
   "metadata": {},
   "outputs": [
    {
     "data": {
      "text/plain": [
       "\u001b[1;31mSignature:\u001b[0m \u001b[0mpow\u001b[0m\u001b[1;33m(\u001b[0m\u001b[0mbase\u001b[0m\u001b[1;33m,\u001b[0m \u001b[0mexp\u001b[0m\u001b[1;33m,\u001b[0m \u001b[0mmod\u001b[0m\u001b[1;33m=\u001b[0m\u001b[1;32mNone\u001b[0m\u001b[1;33m)\u001b[0m\u001b[1;33m\u001b[0m\u001b[1;33m\u001b[0m\u001b[0m\n",
       "\u001b[1;31mDocstring:\u001b[0m\n",
       "Equivalent to base**exp with 2 arguments or base**exp % mod with 3 arguments\n",
       "\n",
       "Some types, such as ints, are able to use a more efficient algorithm when\n",
       "invoked using the three argument form.\n",
       "\u001b[1;31mType:\u001b[0m      builtin_function_or_method"
      ]
     },
     "metadata": {},
     "output_type": "display_data"
    }
   ],
   "source": [
    "pow?"
   ]
  },
  {
   "cell_type": "code",
   "execution_count": 91,
   "id": "c06ffcf1-aa51-4687-8e35-4693e5057614",
   "metadata": {},
   "outputs": [
    {
     "data": {
      "text/plain": [
       "\u001b[1;31mSignature:\u001b[0m \u001b[0mpow\u001b[0m\u001b[1;33m(\u001b[0m\u001b[0mbase\u001b[0m\u001b[1;33m,\u001b[0m \u001b[0mexp\u001b[0m\u001b[1;33m,\u001b[0m \u001b[0mmod\u001b[0m\u001b[1;33m=\u001b[0m\u001b[1;32mNone\u001b[0m\u001b[1;33m)\u001b[0m\u001b[1;33m\u001b[0m\u001b[1;33m\u001b[0m\u001b[0m\n",
       "\u001b[1;31mDocstring:\u001b[0m\n",
       "Equivalent to base**exp with 2 arguments or base**exp % mod with 3 arguments\n",
       "\n",
       "Some types, such as ints, are able to use a more efficient algorithm when\n",
       "invoked using the three argument form.\n",
       "\u001b[1;31mType:\u001b[0m      builtin_function_or_method"
      ]
     },
     "metadata": {},
     "output_type": "display_data"
    }
   ],
   "source": [
    "pow??"
   ]
  },
  {
   "cell_type": "code",
   "execution_count": 93,
   "id": "c18128ca-6a42-4475-b5de-4dd5d65f6684",
   "metadata": {},
   "outputs": [
    {
     "name": "stdout",
     "output_type": "stream",
     "text": [
      "Help on built-in function pow in module builtins:\n",
      "\n",
      "pow(base, exp, mod=None)\n",
      "    Equivalent to base**exp with 2 arguments or base**exp % mod with 3 arguments\n",
      "\n",
      "    Some types, such as ints, are able to use a more efficient algorithm when\n",
      "    invoked using the three argument form.\n",
      "\n"
     ]
    }
   ],
   "source": [
    "help(pow)"
   ]
  },
  {
   "cell_type": "code",
   "execution_count": 95,
   "id": "1f4df0ee-bc17-4c0b-b064-6bc2444ca3eb",
   "metadata": {},
   "outputs": [
    {
     "name": "stdout",
     "output_type": "stream",
     "text": [
      "Help on method raw_input in module ipykernel.kernelbase:\n",
      "\n",
      "raw_input(prompt='') method of ipykernel.ipkernel.IPythonKernel instance\n",
      "    Forward raw_input to frontends\n",
      "\n",
      "    Raises\n",
      "    ------\n",
      "    StdinNotImplementedError if active frontend doesn't support stdin.\n",
      "\n"
     ]
    }
   ],
   "source": [
    "help(input)"
   ]
  },
  {
   "cell_type": "code",
   "execution_count": 107,
   "id": "3c373d00-969c-4711-80b5-f725123c3709",
   "metadata": {},
   "outputs": [
    {
     "name": "stdin",
     "output_type": "stream",
     "text": [
      " 22\n",
      " 4\n"
     ]
    },
    {
     "name": "stdout",
     "output_type": "stream",
     "text": [
      "22\n"
     ]
    }
   ],
   "source": [
    "a=int(input())\n",
    "b=int(input())\n",
    "if a>b:\n",
    "    print(a)\n",
    "if b>a:\n",
    "    print(b)"
   ]
  },
  {
   "cell_type": "code",
   "execution_count": 125,
   "id": "7cb3e1d6-37d4-4309-9de1-557109afa8a1",
   "metadata": {},
   "outputs": [
    {
     "name": "stdin",
     "output_type": "stream",
     "text": [
      " 22\n",
      " 22\n"
     ]
    },
    {
     "name": "stdout",
     "output_type": "stream",
     "text": [
      "Equal\n"
     ]
    }
   ],
   "source": [
    "a=int(input())\n",
    "b=int(input())\n",
    "if a>b:\n",
    "    print(a)\n",
    "elif b>a:\n",
    "    print(b)\n",
    "else:\n",
    "    print(\"Equal\")"
   ]
  },
  {
   "cell_type": "code",
   "execution_count": 127,
   "id": "28fe6c1e-b891-4926-a695-cc48aa65455c",
   "metadata": {},
   "outputs": [
    {
     "name": "stdin",
     "output_type": "stream",
     "text": [
      " 22\n",
      " 22\n"
     ]
    },
    {
     "name": "stdout",
     "output_type": "stream",
     "text": [
      "Equal\n"
     ]
    }
   ],
   "source": [
    "a=int(input())\n",
    "b=int(input())\n",
    "print(a)if a>b else print(b) if b>a else print (\"Equal\")"
   ]
  },
  {
   "cell_type": "code",
   "execution_count": 133,
   "id": "4fff273e-ef5b-477d-89cc-b35e315c8e0d",
   "metadata": {},
   "outputs": [
    {
     "name": "stdin",
     "output_type": "stream",
     "text": [
      "Enter Marks : 85\n"
     ]
    },
    {
     "name": "stdout",
     "output_type": "stream",
     "text": [
      "A\n"
     ]
    }
   ],
   "source": [
    "a = int(input(\"Enter Marks :\"))\n",
    "if a >= 85:\n",
    "    print(\"A\")\n",
    "elif a >= 80:\n",
    "    print(\"A-\")\n",
    "elif a >= 75:\n",
    "    print(\"B\")\n",
    "elif a >= 70:\n",
    "    print(\"B-\")\n",
    "else:\n",
    "    print(\"Below avarage\")"
   ]
  },
  {
   "cell_type": "code",
   "execution_count": 135,
   "id": "33c75238-4edf-494a-9268-9d574afa89df",
   "metadata": {},
   "outputs": [
    {
     "name": "stdin",
     "output_type": "stream",
     "text": [
      " 50\n"
     ]
    },
    {
     "name": "stdout",
     "output_type": "stream",
     "text": [
      ">10\n",
      "Inside the top if\n",
      ">20\n",
      "Inside the nested if\n",
      ">30\n",
      "inside the nested if of nested if\n",
      "Outside all ifs\n"
     ]
    }
   ],
   "source": [
    "a = int(input())\n",
    "if a>10:\n",
    "    print(\">10\")\n",
    "    print(\"Inside the top if\")\n",
    "    if a>20:\n",
    "        print(\">20\")\n",
    "        print(\"Inside the nested if\")\n",
    "        if a>30:\n",
    "            print(\">30\")\n",
    "            print(\"inside the nested if of nested if\")\n",
    "        else:\n",
    "            print(\"<=30\")\n",
    "            print(\"inside the else part of nested if of nested if\")\n",
    "    else:\n",
    "        print(\"<=20\")\n",
    "        print(\"Inside the else part of nested if\")\n",
    "print(\"Outside all ifs\")"
   ]
  },
  {
   "cell_type": "markdown",
   "id": "ae0772d1-f9cb-4c16-8d26-0ef7d8e42d44",
   "metadata": {},
   "source": [
    "## User will enter a floating point number let say 238.915. Your task is to find out the integer portion before the point (in this case 238) and then check if that integer portion is an even number or not?\n",
    "\n"
   ]
  },
  {
   "cell_type": "code",
   "execution_count": 160,
   "id": "ec2c5e5a-1dce-42a6-833e-047a96dc078a",
   "metadata": {},
   "outputs": [
    {
     "name": "stdin",
     "output_type": "stream",
     "text": [
      "Enter real number : 238.915\n"
     ]
    },
    {
     "name": "stdout",
     "output_type": "stream",
     "text": [
      "238\n",
      "Even\n"
     ]
    }
   ],
   "source": [
    "x = float(input(\"Enter real number :\"))\n",
    "y = int (x)\n",
    "print(y)\n",
    "if y%2==0:\n",
    "    print(\"Even\")\n",
    "else:\n",
    "    print(\"Odd\")\n"
   ]
  },
  {
   "cell_type": "markdown",
   "id": "256c3e57-aa57-41bd-a728-912883a272b5",
   "metadata": {},
   "source": [
    "# While Loop"
   ]
  },
  {
   "cell_type": "code",
   "execution_count": 163,
   "id": "2fc76cff-098a-4e99-92ae-f334db7e7e97",
   "metadata": {},
   "outputs": [
    {
     "name": "stdin",
     "output_type": "stream",
     "text": [
      " 5\n"
     ]
    },
    {
     "name": "stdout",
     "output_type": "stream",
     "text": [
      "1\n",
      "Iteration number: 1\n",
      "4\n",
      "Iteration number: 2\n",
      "9\n",
      "Iteration number: 3\n",
      "16\n",
      "Iteration number: 4\n",
      "Loop end\n"
     ]
    }
   ],
   "source": [
    "n = int(input())\n",
    "i=1\n",
    "while i<n:\n",
    "    print(i**2)\n",
    "    print(\"Iteration number:\",i)\n",
    "    i+=1\n",
    "print(\"Loop end\")"
   ]
  },
  {
   "cell_type": "code",
   "execution_count": 165,
   "id": "e6cf5511-6acf-427d-ba0f-f1f6cc4fbf44",
   "metadata": {},
   "outputs": [
    {
     "name": "stdout",
     "output_type": "stream",
     "text": [
      "inside else\n",
      "inside else\n",
      "inside else\n",
      "inside else\n",
      "inside else\n",
      "inside else\n",
      "inside else\n",
      "inside else\n",
      "inside if\n",
      "The loop is done\n"
     ]
    }
   ],
   "source": [
    "n= 10\n",
    "i = 1\n",
    "while True:\n",
    "    if i%9==0:\n",
    "        print(\"inside if\")\n",
    "        break\n",
    "    else:\n",
    "        print(\"inside else\")\n",
    "        i+=1\n",
    "print(\"The loop is done\")"
   ]
  },
  {
   "cell_type": "code",
   "execution_count": 167,
   "id": "ed314e2a-307c-4886-9801-695e7fa88e9e",
   "metadata": {},
   "outputs": [
    {
     "name": "stdout",
     "output_type": "stream",
     "text": [
      "inside if\n",
      "inside if\n",
      "inside if\n",
      "inside if\n",
      "inside if\n",
      "inside if\n",
      "inside if\n",
      "inside if\n",
      "something\n",
      "The loop is done\n"
     ]
    }
   ],
   "source": [
    "n= 10\n",
    "i = 1\n",
    "while True:\n",
    "    if i%9!=0:\n",
    "        print(\"inside if\")\n",
    "        i+=1\n",
    "        continue\n",
    "    print(\"something\")\n",
    "    break\n",
    "print(\"The loop is done\")"
   ]
  },
  {
   "cell_type": "code",
   "execution_count": 169,
   "id": "fc2d8b88-b318-45c7-af5d-5f3d7e8ed9bb",
   "metadata": {},
   "outputs": [
    {
     "name": "stdout",
     "output_type": "stream",
     "text": [
      "1\n",
      "2\n",
      "3\n",
      "4\n",
      "5\n",
      "6\n",
      "7\n",
      "8\n",
      "9\n",
      "10\n",
      "[0, 1, 4, 9, 16, 25, 36, 49, 64, 81]\n"
     ]
    }
   ],
   "source": [
    "L=[]\n",
    "for i in range(10):\n",
    "    print(i+1)\n",
    "    L.append(i**2)\n",
    "print(L)"
   ]
  },
  {
   "cell_type": "code",
   "execution_count": 175,
   "id": "97b642d8-c1a1-41b2-ae78-75264ebcb381",
   "metadata": {},
   "outputs": [
    {
     "name": "stdout",
     "output_type": "stream",
     "text": [
      "0\n",
      "2\n",
      "4\n",
      "6\n",
      "8\n",
      "[0, 4, 16, 36, 64]\n"
     ]
    }
   ],
   "source": [
    "L=[]\n",
    "for i in range(0,10,2):\n",
    "    print(i)\n",
    "    L.append(i**2)\n",
    "print(L)"
   ]
  },
  {
   "cell_type": "code",
   "execution_count": 183,
   "id": "29e56a4e-b5a9-4e84-b251-5ca144dbf416",
   "metadata": {},
   "outputs": [
    {
     "name": "stdout",
     "output_type": "stream",
     "text": [
      "4.9\n",
      "out side the loop\n"
     ]
    }
   ],
   "source": [
    "S = {\"apple\",4.9,\"cherry\"}\n",
    "i=1\n",
    "for x in S:\n",
    "    print(x)\n",
    "    i+=1\n",
    "    if i==2:\n",
    "        break\n",
    "    else:\n",
    "        pass\n",
    "else:\n",
    "    print(\"Loop terminates with success\")\n",
    "print(\"out side the loop\")"
   ]
  },
  {
   "cell_type": "code",
   "execution_count": 185,
   "id": "1fb38b64-8af1-40f7-ad8b-001827dbd8c5",
   "metadata": {},
   "outputs": [
    {
     "name": "stdout",
     "output_type": "stream",
     "text": [
      "A 10\n",
      "B -19\n",
      "C abc\n"
     ]
    }
   ],
   "source": [
    "D={\"A\":10,\"B\":-19,\"C\":\"abc\"}\n",
    "for x in D:\n",
    "    print(x,D[x])"
   ]
  },
  {
   "cell_type": "markdown",
   "id": "e874f068-a366-493e-acc9-4cdcb481e5ce",
   "metadata": {},
   "source": [
    "# Given a list of numbers i.e. [1,2,4,-5,7,9,3,2], make another list that contains all the items in sorted order from min to max. i.e. your result will be another list like [-5,1,2,2,3,7,9]"
   ]
  },
  {
   "cell_type": "code",
   "execution_count": 212,
   "id": "be4b0f0a-2a0a-47da-bca3-2c615a5a0be2",
   "metadata": {},
   "outputs": [
    {
     "name": "stdout",
     "output_type": "stream",
     "text": [
      "[-5, 1, 2, 2, 3, 4, 7, 9]\n"
     ]
    }
   ],
   "source": [
    "L=[1,2,4,-5,7,9,3,2]\n",
    "for j in range (len(L)):\n",
    "    minimum = L[j]\n",
    "    index = j\n",
    "    counter = j\n",
    "    for i in range(j,len(L)):\n",
    "        if L[i] < minimum:\n",
    "            minimum=L[i]\n",
    "            index = counter\n",
    "        counter +=1\n",
    "    temp = L[j]\n",
    "    L[j] = minimum\n",
    "    L[index]=temp\n",
    "print(L)"
   ]
  },
  {
   "cell_type": "markdown",
   "id": "e5a7c06b-bb66-406f-b312-c34b32ef4048",
   "metadata": {},
   "source": [
    "# Functions"
   ]
  },
  {
   "cell_type": "code",
   "execution_count": 215,
   "id": "f38009ff-2de4-4064-a30c-a3f39f10eaf3",
   "metadata": {},
   "outputs": [],
   "source": [
    "def printSuccess():\n",
    "    print(\"i am done\")\n",
    "    print(\"Send me next task\")"
   ]
  },
  {
   "cell_type": "code",
   "execution_count": 219,
   "id": "eacf76cf-c97c-4efb-a84c-17a040dab812",
   "metadata": {},
   "outputs": [
    {
     "name": "stdout",
     "output_type": "stream",
     "text": [
      "i am done\n",
      "Send me next task\n"
     ]
    }
   ],
   "source": [
    "printSuccess()"
   ]
  },
  {
   "cell_type": "code",
   "execution_count": 223,
   "id": "e1316b69-6063-4595-ba7f-70efcdc8a309",
   "metadata": {},
   "outputs": [],
   "source": [
    "def fun():\n",
    "    \"\"\"the functions is doing for fun purpose\n",
    "    \"\"\"\n",
    "    print(\"hello\")"
   ]
  },
  {
   "cell_type": "code",
   "execution_count": 233,
   "id": "138a57ac-e6af-467a-9dbc-1e1a08fc82a7",
   "metadata": {},
   "outputs": [
    {
     "data": {
      "text/plain": [
       "\u001b[1;31mSignature:\u001b[0m \u001b[0mfun\u001b[0m\u001b[1;33m(\u001b[0m\u001b[1;33m)\u001b[0m\u001b[1;33m\u001b[0m\u001b[1;33m\u001b[0m\u001b[0m\n",
       "\u001b[1;31mDocstring:\u001b[0m\n",
       "the functions is doing for fun purpose\n",
       "    \n",
       "\u001b[1;31mFile:\u001b[0m      c:\\users\\lenovo\\appdata\\local\\temp\\ipykernel_15092\\2739278256.py\n",
       "\u001b[1;31mType:\u001b[0m      function"
      ]
     },
     "metadata": {},
     "output_type": "display_data"
    }
   ],
   "source": [
    "fun?"
   ]
  },
  {
   "cell_type": "code",
   "execution_count": 235,
   "id": "6315d3e4-5b37-4637-ade5-1c057ccb7967",
   "metadata": {},
   "outputs": [
    {
     "name": "stdout",
     "output_type": "stream",
     "text": [
      "hello\n"
     ]
    }
   ],
   "source": [
    "fun()"
   ]
  },
  {
   "cell_type": "code",
   "execution_count": 237,
   "id": "d0dda8df-e3df-4c75-893a-a07eedccbb00",
   "metadata": {},
   "outputs": [],
   "source": [
    "def printMsg(msg):\n",
    "    if isinstance (msg,str):\n",
    "        print(msg)\n",
    "    else:\n",
    "        print (\"your argument is not string\")\n",
    "        print (\"Type of your massage is :\",type(msg))\n"
   ]
  },
  {
   "cell_type": "code",
   "execution_count": 239,
   "id": "d35a87f1-ec06-467b-9d4b-9050c80358c8",
   "metadata": {},
   "outputs": [
    {
     "name": "stdout",
     "output_type": "stream",
     "text": [
      "your argument is not string\n",
      "Type of your massage is : <class 'int'>\n"
     ]
    }
   ],
   "source": [
    "printMsg(23)"
   ]
  },
  {
   "cell_type": "code",
   "execution_count": 253,
   "id": "f298dcf9-b6f1-4b41-8856-51bc52cf5df2",
   "metadata": {},
   "outputs": [],
   "source": [
    "def mypow(a,b):\n",
    "    \"\"\"this fn computes power like pow fn\"\"\"\n",
    "    c = a**b\n",
    "    print(c)"
   ]
  },
  {
   "cell_type": "code",
   "execution_count": 243,
   "id": "365a673a-d844-4325-9b9a-b60fb96775b5",
   "metadata": {},
   "outputs": [
    {
     "data": {
      "text/plain": [
       "\u001b[1;31mSignature:\u001b[0m \u001b[0mmypow\u001b[0m\u001b[1;33m(\u001b[0m\u001b[0ma\u001b[0m\u001b[1;33m,\u001b[0m \u001b[0mb\u001b[0m\u001b[1;33m)\u001b[0m\u001b[1;33m\u001b[0m\u001b[1;33m\u001b[0m\u001b[0m\n",
       "\u001b[1;31mDocstring:\u001b[0m this fn computes power like pow fn\n",
       "\u001b[1;31mFile:\u001b[0m      c:\\users\\lenovo\\appdata\\local\\temp\\ipykernel_15092\\1946192901.py\n",
       "\u001b[1;31mType:\u001b[0m      function"
      ]
     },
     "metadata": {},
     "output_type": "display_data"
    }
   ],
   "source": [
    "mypow?"
   ]
  },
  {
   "cell_type": "code",
   "execution_count": 255,
   "id": "54cb3406-de35-4cfe-ba45-f07ddbd287a9",
   "metadata": {},
   "outputs": [
    {
     "name": "stdout",
     "output_type": "stream",
     "text": [
      "81\n"
     ]
    }
   ],
   "source": [
    "mypow(3,4)"
   ]
  },
  {
   "cell_type": "code",
   "execution_count": 261,
   "id": "cc064dcb-0cbd-491e-865a-91b4eaf3bf97",
   "metadata": {},
   "outputs": [],
   "source": [
    "def chesckArgs(a,b,c):\n",
    "    \"\"\"Chechking the argument of the input\"\"\"\n",
    "    if isinstance (a,(int,float)) and isinstance (b,(int,float)) and isinstance (c,(int,float)):\n",
    "        print((a+b+c)**2)\n",
    "    else:\n",
    "        print(\"Error\")"
   ]
  },
  {
   "cell_type": "code",
   "execution_count": 263,
   "id": "3fef1536-4682-4e87-ab92-c40ce4cf880c",
   "metadata": {},
   "outputs": [
    {
     "name": "stdout",
     "output_type": "stream",
     "text": [
      "144\n"
     ]
    }
   ],
   "source": [
    "chesckArgs(3,4,5)"
   ]
  },
  {
   "cell_type": "code",
   "execution_count": 265,
   "id": "6ee72a8d-f5d1-4b59-a350-37f39258ac02",
   "metadata": {},
   "outputs": [
    {
     "name": "stdout",
     "output_type": "stream",
     "text": [
      "Error\n"
     ]
    }
   ],
   "source": [
    "chesckArgs(3,4,g)"
   ]
  },
  {
   "cell_type": "code",
   "execution_count": 275,
   "id": "ac67408c-114d-41b0-bb26-f42249258061",
   "metadata": {},
   "outputs": [],
   "source": [
    "def funny(a,b,c):\n",
    "    print(\"A is :\",a)\n",
    "    print(\"B is :\",b)\n",
    "    print(\"C is :\",c)"
   ]
  },
  {
   "cell_type": "code",
   "execution_count": 281,
   "id": "ee733d1f-6f42-4d18-8644-df8a995e4709",
   "metadata": {},
   "outputs": [
    {
     "name": "stdout",
     "output_type": "stream",
     "text": [
      "A is : 2\n",
      "B is : 3\n",
      "C is : game\n"
     ]
    }
   ],
   "source": [
    "funny(2,3,\"game\")"
   ]
  },
  {
   "cell_type": "code",
   "execution_count": 283,
   "id": "99eaf1c9-b40b-4601-b1bd-4db13b7300ba",
   "metadata": {},
   "outputs": [
    {
     "name": "stdout",
     "output_type": "stream",
     "text": [
      "A is : 2\n",
      "B is : 3\n",
      "C is : game\n"
     ]
    }
   ],
   "source": [
    "funny(a=2,c=\"game\",b=3)"
   ]
  },
  {
   "cell_type": "code",
   "execution_count": 289,
   "id": "96e50e72-6b3c-41dc-971b-e9caa3981a04",
   "metadata": {},
   "outputs": [],
   "source": [
    "def add(a,b):\n",
    "    sum = a+b\n",
    "    return sum"
   ]
  },
  {
   "cell_type": "code",
   "execution_count": 293,
   "id": "37bf092c-20f4-4ceb-a4ed-18233d23c6f1",
   "metadata": {},
   "outputs": [],
   "source": [
    "d = add(2,3)"
   ]
  },
  {
   "cell_type": "code",
   "execution_count": 299,
   "id": "04af3bd0-c718-464d-ac8c-bd1392e412cf",
   "metadata": {},
   "outputs": [],
   "source": [
    "def f():\n",
    "    d = 7\n",
    "    print(d)"
   ]
  },
  {
   "cell_type": "code",
   "execution_count": 301,
   "id": "d282b14f-32c2-4075-bda4-4a13efbac348",
   "metadata": {},
   "outputs": [
    {
     "name": "stdout",
     "output_type": "stream",
     "text": [
      "7\n"
     ]
    }
   ],
   "source": [
    "f()"
   ]
  },
  {
   "cell_type": "code",
   "execution_count": 303,
   "id": "89c10b6f-f30f-4223-a499-012623869f17",
   "metadata": {},
   "outputs": [
    {
     "name": "stdout",
     "output_type": "stream",
     "text": [
      "5\n"
     ]
    }
   ],
   "source": [
    "print(d)"
   ]
  },
  {
   "cell_type": "code",
   "execution_count": 305,
   "id": "d962a80c-86b2-456f-8768-350428bd89bd",
   "metadata": {},
   "outputs": [
    {
     "name": "stdout",
     "output_type": "stream",
     "text": [
      "<class 'function'>\n"
     ]
    }
   ],
   "source": [
    " print(type(f))"
   ]
  },
  {
   "cell_type": "code",
   "execution_count": 313,
   "id": "86718091-2ecc-4d93-bfb5-33c485d4a113",
   "metadata": {},
   "outputs": [
    {
     "name": "stdout",
     "output_type": "stream",
     "text": [
      "<class 'int'>\n"
     ]
    }
   ],
   "source": [
    "print(type(add(2,3)))"
   ]
  },
  {
   "cell_type": "code",
   "execution_count": 315,
   "id": "57ccdb07-1f86-4dab-9164-3aa78bbf56b1",
   "metadata": {},
   "outputs": [],
   "source": [
    "def r():\n",
    "    a=5\n",
    "    b=7\n",
    "    c=\"something\"\n",
    "    return a,b,c"
   ]
  },
  {
   "cell_type": "code",
   "execution_count": 317,
   "id": "8d33eced-95cb-42ed-bf38-e41fbe08e5c8",
   "metadata": {},
   "outputs": [
    {
     "name": "stdout",
     "output_type": "stream",
     "text": [
      "5 7 something\n"
     ]
    }
   ],
   "source": [
    "x,y,z=r()\n",
    "print(x,y,z)"
   ]
  },
  {
   "cell_type": "code",
   "execution_count": 319,
   "id": "630caf86-8f69-4c74-9f53-63cc36525232",
   "metadata": {},
   "outputs": [],
   "source": [
    "def myAdd(*args):\n",
    "    s = 0\n",
    "    for i in range (len(args)):\n",
    "        s+=args[i]\n",
    "    return s"
   ]
  },
  {
   "cell_type": "code",
   "execution_count": 321,
   "id": "23e9291c-32c3-40c2-83e6-f0c3b672a6d0",
   "metadata": {},
   "outputs": [
    {
     "name": "stdout",
     "output_type": "stream",
     "text": [
      "20\n"
     ]
    }
   ],
   "source": [
    "print(myAdd(2,3,4,5,6))"
   ]
  },
  {
   "cell_type": "code",
   "execution_count": 339,
   "id": "9e0d39d4-cf90-4aa3-936e-75287c968e98",
   "metadata": {},
   "outputs": [],
   "source": [
    "def printAllVariableAndValue(**args):\n",
    "    for x in args:\n",
    "        print(\"variable name is :\",x,\"And value is\", args[x])"
   ]
  },
  {
   "cell_type": "code",
   "execution_count": 337,
   "id": "901f2af3-e940-41c3-97ba-354fb04c2414",
   "metadata": {},
   "outputs": [
    {
     "name": "stdout",
     "output_type": "stream",
     "text": [
      "variable name is : a And value is 3\n",
      "variable name is : b And value is Babe\n",
      "variable name is : c And value is CCC\n",
      "variable name is : d And value is 6.7\n"
     ]
    }
   ],
   "source": [
    "printAllVariableAndValue(a = 3,b=\"Babe\",c=\"CCC\",d=6.7)"
   ]
  },
  {
   "cell_type": "code",
   "execution_count": 4,
   "id": "916b6a31-8e9f-4370-9168-b245af625ba6",
   "metadata": {},
   "outputs": [
    {
     "name": "stdout",
     "output_type": "stream",
     "text": [
      "[1, 2, 3, 4]\n"
     ]
    }
   ],
   "source": [
    "P = [1,2,3,4]\n",
    "P2 = P\n",
    "print(P2)"
   ]
  },
  {
   "cell_type": "code",
   "execution_count": 6,
   "id": "bdd0be11-6cad-42da-98ef-a33ce56f0f9a",
   "metadata": {},
   "outputs": [
    {
     "name": "stdout",
     "output_type": "stream",
     "text": [
      "[1, 2, 3, 7]\n"
     ]
    }
   ],
   "source": [
    "P2[3]=7\n",
    "print(P)"
   ]
  },
  {
   "cell_type": "code",
   "execution_count": 8,
   "id": "ef740f4a-a239-4523-9623-cd34095c845b",
   "metadata": {},
   "outputs": [],
   "source": [
    "def gg(s=4):\n",
    "    print(s)"
   ]
  },
  {
   "cell_type": "code",
   "execution_count": 10,
   "id": "3080fdd2-80c0-465f-92d2-6c7aa92b1810",
   "metadata": {},
   "outputs": [
    {
     "name": "stdout",
     "output_type": "stream",
     "text": [
      "4\n"
     ]
    }
   ],
   "source": [
    "gg()"
   ]
  },
  {
   "cell_type": "code",
   "execution_count": 12,
   "id": "8d960f59-9f2a-433c-af14-08dc78c76147",
   "metadata": {},
   "outputs": [
    {
     "name": "stdout",
     "output_type": "stream",
     "text": [
      "56\n"
     ]
    }
   ],
   "source": [
    "gg(56)"
   ]
  },
  {
   "cell_type": "markdown",
   "id": "9ebaaa38-f31c-49c0-8ffe-68882e6ef3b5",
   "metadata": {},
   "source": [
    "# Module"
   ]
  },
  {
   "cell_type": "code",
   "execution_count": 14,
   "id": "464d97a9-dece-4cb6-8b14-cc79cea4519b",
   "metadata": {},
   "outputs": [],
   "source": [
    "import sys\n",
    "sys.path.append('D:/Python/Basic of Python')\n",
    "import my_universal_functions as myfs"
   ]
  },
  {
   "cell_type": "code",
   "execution_count": 16,
   "id": "ae6a7930-cc8e-4bb5-b6a1-20c654a65d72",
   "metadata": {},
   "outputs": [
    {
     "data": {
      "text/plain": [
       "\u001b[1;31mSignature:\u001b[0m \u001b[0mmyfs\u001b[0m\u001b[1;33m.\u001b[0m\u001b[0maddAllNumerics\u001b[0m\u001b[1;33m(\u001b[0m\u001b[1;33m*\u001b[0m\u001b[0margs\u001b[0m\u001b[1;33m)\u001b[0m\u001b[1;33m\u001b[0m\u001b[1;33m\u001b[0m\u001b[0m\n",
       "\u001b[1;31mDocstring:\u001b[0m <no docstring>\n",
       "\u001b[1;31mSource:\u001b[0m   \n",
       "\u001b[1;32mdef\u001b[0m \u001b[0maddAllNumerics\u001b[0m\u001b[1;33m(\u001b[0m\u001b[1;33m*\u001b[0m\u001b[0margs\u001b[0m\u001b[1;33m)\u001b[0m\u001b[1;33m:\u001b[0m\u001b[1;33m\n",
       "\u001b[0m    \u001b[0ms\u001b[0m\u001b[1;33m=\u001b[0m\u001b[1;36m0\u001b[0m\u001b[1;33m\n",
       "\u001b[0m    \u001b[1;32mfor\u001b[0m \u001b[0mx\u001b[0m \u001b[1;32min\u001b[0m \u001b[0margs\u001b[0m\u001b[1;33m:\u001b[0m\u001b[1;33m\n",
       "\u001b[0m        \u001b[0ms\u001b[0m\u001b[1;33m+=\u001b[0m\u001b[0mx\u001b[0m\u001b[1;33m\n",
       "\u001b[0m    \u001b[1;32mreturn\u001b[0m \u001b[0ms\u001b[0m\u001b[1;33m\u001b[0m\u001b[1;33m\u001b[0m\u001b[0m\n",
       "\u001b[1;31mFile:\u001b[0m      d:\\python\\basic of python\\my_universal_functions.py\n",
       "\u001b[1;31mType:\u001b[0m      function"
      ]
     },
     "metadata": {},
     "output_type": "display_data"
    }
   ],
   "source": [
    "myfs.addAllNumerics??"
   ]
  },
  {
   "cell_type": "code",
   "execution_count": 20,
   "id": "f8d1671d-50c6-492f-bdd9-918cb4543b25",
   "metadata": {},
   "outputs": [
    {
     "name": "stdout",
     "output_type": "stream",
     "text": [
      "16\n"
     ]
    }
   ],
   "source": [
    "c = myfs.addAllNumerics(2,3,5,6)\n",
    "print (c)"
   ]
  },
  {
   "cell_type": "code",
   "execution_count": 85,
   "id": "407faac2-e214-48ae-a0e7-85445dd98cf9",
   "metadata": {},
   "outputs": [
    {
     "data": {
      "text/plain": [
       "False"
      ]
     },
     "execution_count": 85,
     "metadata": {},
     "output_type": "execute_result"
    }
   ],
   "source": [
    "from my_universal_functions import checkIfNotNumeric as check\n",
    "check(\"M\")"
   ]
  },
  {
   "cell_type": "code",
   "execution_count": 28,
   "id": "992fe433-fe3a-42c3-b9b1-9ef4112eace1",
   "metadata": {},
   "outputs": [
    {
     "data": {
      "text/plain": [
       "True"
      ]
     },
     "execution_count": 28,
     "metadata": {},
     "output_type": "execute_result"
    }
   ],
   "source": [
    "from my_universal_functions import checkIfNotNumeric as check\n",
    "check(10)"
   ]
  },
  {
   "cell_type": "markdown",
   "id": "d14e6cef-7970-4e3a-8f25-d3949f999960",
   "metadata": {},
   "source": [
    "# Given a list of numbers i.e. [1,2,4,-5,7,9,3,2], make another list that contains all the items in sorted order from min to max. i.e. your result will be another list like [-5,1,2,2,3,7,9] (using funtions)"
   ]
  },
  {
   "cell_type": "code",
   "execution_count": 67,
   "id": "5b2f2240-3ca1-4b2c-aece-3e4a96da2376",
   "metadata": {},
   "outputs": [],
   "source": [
    "def findMin(L,startIdx):\n",
    "    m = L[startIdx]\n",
    "    idx = startIdx\n",
    "    i = 0\n",
    "    for i in range(startIdx,len(L)):\n",
    "        x = L[i]\n",
    "        if x<m:\n",
    "            m = x\n",
    "            idx = i\n",
    "        else:\n",
    "            pass\n",
    "    return m,idx"
   ]
  },
  {
   "cell_type": "code",
   "execution_count": 81,
   "id": "d49f2a9d-5b68-48fa-a7a3-2ba4f1995cc0",
   "metadata": {},
   "outputs": [
    {
     "name": "stdout",
     "output_type": "stream",
     "text": [
      "-5 3\n"
     ]
    }
   ],
   "source": [
    "a,b = findMin([1,2,4,-5,7,9,3,2],0)\n",
    "print (a,b)"
   ]
  },
  {
   "cell_type": "code",
   "execution_count": 73,
   "id": "f150fd57-5c9b-4ff8-8223-ead5b8af052e",
   "metadata": {},
   "outputs": [],
   "source": [
    "def swapValues(L,idx1,idx2):\n",
    "    tmp = L[idx1]\n",
    "    L[idx1]=L[idx2]\n",
    "    L[idx2]=tmp\n",
    "    return L"
   ]
  },
  {
   "cell_type": "code",
   "execution_count": 83,
   "id": "64f1623e-788a-49a0-be2a-e0c2679bf2e1",
   "metadata": {},
   "outputs": [
    {
     "name": "stdout",
     "output_type": "stream",
     "text": [
      "[1, -5, 4, 2, 7, 9, 3, 2]\n"
     ]
    }
   ],
   "source": [
    "L = [1,2,4,-5,7,9,3,2]\n",
    "L2 = swapValues(L,1,3)\n",
    "print(L2)"
   ]
  },
  {
   "cell_type": "code",
   "execution_count": 77,
   "id": "1deb33f9-7572-4ee2-92ae-b8f05b55ed39",
   "metadata": {},
   "outputs": [],
   "source": [
    "def checkIfNotNumeric(L):\n",
    "    for x in L:\n",
    "        if not(isinstance(x,(int,float))):\n",
    "            return False\n",
    "    return True\n",
    "def sortList(L):\n",
    "    if not(checkIfNotNumeric(L)):\n",
    "        print (\"Error: List doesn't contain numeric values\")\n",
    "        return\n",
    "    else:\n",
    "        counter = 0\n",
    "        for x in L:\n",
    "            m,idx = findMin(L,counter)\n",
    "            L = swapValues(L,counter,idx)\n",
    "            counter+=1\n",
    "    return L\n",
    "            \n",
    "    "
   ]
  },
  {
   "cell_type": "code",
   "execution_count": 79,
   "id": "99c3f559-fb14-4648-83ab-409a451f9dc3",
   "metadata": {},
   "outputs": [
    {
     "name": "stdout",
     "output_type": "stream",
     "text": [
      "[-5, 1, 2, 2, 3, 4, 7, 9]\n"
     ]
    }
   ],
   "source": [
    "L_sort= sortList([1,2,4,-5,7,9,3,2])\n",
    "print (L_sort)"
   ]
  },
  {
   "cell_type": "markdown",
   "id": "500961a8-c927-4ade-afea-0b26b6cee340",
   "metadata": {
    "jp-MarkdownHeadingCollapsed": true
   },
   "source": [
    "# Yes Yes Yes!! the prevoious one done!!"
   ]
  },
  {
   "cell_type": "markdown",
   "id": "5ab3fb95-5ba2-463b-bc0c-5ff732350033",
   "metadata": {},
   "source": [
    "# String"
   ]
  },
  {
   "cell_type": "code",
   "execution_count": 92,
   "id": "0c84c0eb-1966-405f-af5a-0a9f0ccd0d70",
   "metadata": {},
   "outputs": [
    {
     "name": "stdout",
     "output_type": "stream",
     "text": [
      "The price of this book is: 12\n",
      "The price of this book is: 12\n"
     ]
    }
   ],
   "source": [
    "price = 12\n",
    "s = \"The price of this book\"\n",
    "v = s + \" is: \" + str(price)\n",
    "print(v)\n",
    "print(s,\"is:\",price)"
   ]
  },
  {
   "cell_type": "code",
   "execution_count": 94,
   "id": "62aaff67-4832-4364-9687-7cf2ac9236d4",
   "metadata": {},
   "outputs": [
    {
     "name": "stdout",
     "output_type": "stream",
     "text": [
      "This is the first line string\n",
      "This is line tow\n",
      "this is last line\n"
     ]
    }
   ],
   "source": [
    "multilineString = \"\"\"This is the first line string\n",
    "This is line tow\n",
    "this is last line\"\"\"\n",
    "print(multilineString)"
   ]
  },
  {
   "cell_type": "code",
   "execution_count": 96,
   "id": "84371a87-6f0e-44bc-86bb-9f526d19c5ce",
   "metadata": {},
   "outputs": [
    {
     "name": "stdout",
     "output_type": "stream",
     "text": [
      " The following options are available:\n",
      "            -a       : does nothing\n",
      "            -b       : also does nothing\n",
      "\n"
     ]
    }
   ],
   "source": [
    "print(\"\"\" The following options are available:\n",
    "            -a       : does nothing\n",
    "            -b       : also does nothing\n",
    "\"\"\")"
   ]
  },
  {
   "cell_type": "code",
   "execution_count": 98,
   "id": "e20bbd98-0500-48e9-8a50-6b85cf77f6ce",
   "metadata": {},
   "outputs": [
    {
     "name": "stdout",
     "output_type": "stream",
     "text": [
      "r\n"
     ]
    }
   ],
   "source": [
    "s = \"How are you and who are you\"\n",
    "print(s[5])"
   ]
  },
  {
   "cell_type": "code",
   "execution_count": 100,
   "id": "87250695-3aa0-4465-a619-c31068b68fc7",
   "metadata": {},
   "outputs": [
    {
     "data": {
      "text/plain": [
       "str"
      ]
     },
     "execution_count": 100,
     "metadata": {},
     "output_type": "execute_result"
    }
   ],
   "source": [
    "type(s[5])"
   ]
  },
  {
   "cell_type": "code",
   "execution_count": 104,
   "id": "4bcab867-ad1a-43b0-a267-6e7ac190e574",
   "metadata": {},
   "outputs": [
    {
     "data": {
      "text/plain": [
       "'are yo'"
      ]
     },
     "execution_count": 104,
     "metadata": {},
     "output_type": "execute_result"
    }
   ],
   "source": [
    "s[4:10]"
   ]
  },
  {
   "cell_type": "code",
   "execution_count": 110,
   "id": "a954ff53-fa62-41ef-bac5-fea36b253acf",
   "metadata": {},
   "outputs": [
    {
     "data": {
      "text/plain": [
       "' are yo'"
      ]
     },
     "execution_count": 110,
     "metadata": {},
     "output_type": "execute_result"
    }
   ],
   "source": [
    "s[-8:-1]"
   ]
  },
  {
   "cell_type": "code",
   "execution_count": 118,
   "id": "9bdd0f82-bb8f-465d-a7aa-1ba18c31e7ae",
   "metadata": {},
   "outputs": [
    {
     "data": {
      "text/plain": [
       "'Hwaeyu'"
      ]
     },
     "execution_count": 118,
     "metadata": {},
     "output_type": "execute_result"
    }
   ],
   "source": [
    "s [0:12:2]"
   ]
  },
  {
   "cell_type": "code",
   "execution_count": 120,
   "id": "12eff7eb-0e68-4bbb-9101-3e3f164b2ad9",
   "metadata": {},
   "outputs": [
    {
     "data": {
      "text/plain": [
       "'uoy era ohw dna uoy era woH'"
      ]
     },
     "execution_count": 120,
     "metadata": {},
     "output_type": "execute_result"
    }
   ],
   "source": [
    "s[::-1]"
   ]
  },
  {
   "cell_type": "code",
   "execution_count": 130,
   "id": "7e7f50c4-be13-4ba1-b948-0ebba7714129",
   "metadata": {},
   "outputs": [
    {
     "name": "stdout",
     "output_type": "stream",
     "text": [
      "Abc : deF ;; HgI\n"
     ]
    }
   ],
   "source": [
    "a =\"     Abc : deF ;; HgI    \"\n",
    "b = a.strip()\n",
    "print(b)"
   ]
  },
  {
   "cell_type": "code",
   "execution_count": 132,
   "id": "384a1dc6-1753-4106-bfdd-9dcce72433bc",
   "metadata": {},
   "outputs": [
    {
     "name": "stdout",
     "output_type": "stream",
     "text": [
      "ABC : DEF ;; HGI\n"
     ]
    }
   ],
   "source": [
    "c= b.upper()\n",
    "print(c)"
   ]
  },
  {
   "cell_type": "code",
   "execution_count": 136,
   "id": "429d73c2-d0c3-499b-904f-4d140309d3a6",
   "metadata": {},
   "outputs": [
    {
     "name": "stdout",
     "output_type": "stream",
     "text": [
      "abc : def ;; hgi\n"
     ]
    }
   ],
   "source": [
    "d = b.lower()\n",
    "print(c)"
   ]
  },
  {
   "cell_type": "code",
   "execution_count": 138,
   "id": "a84b953f-3f0e-4993-acc8-d4454c372ed7",
   "metadata": {},
   "outputs": [
    {
     "name": "stdout",
     "output_type": "stream",
     "text": [
      "Abc : deF **&**& HgI\n"
     ]
    }
   ],
   "source": [
    "e = b.replace(\";\",\"**&\")\n",
    "print(e)"
   ]
  },
  {
   "cell_type": "code",
   "execution_count": 142,
   "id": "1eb28238-7e53-4e6e-b598-3dc7cd668c17",
   "metadata": {},
   "outputs": [
    {
     "name": "stdout",
     "output_type": "stream",
     "text": [
      "Abc : deF Two semicolon HgI\n"
     ]
    }
   ],
   "source": [
    "f = b.replace(\";;\",\"Two semicolon\")\n",
    "print(f)"
   ]
  },
  {
   "cell_type": "code",
   "execution_count": 146,
   "id": "f5539de9-5933-480b-bef9-f82b7e52e137",
   "metadata": {},
   "outputs": [
    {
     "name": "stdout",
     "output_type": "stream",
     "text": [
      "['abc', 'def', 'ghi', 'jkl']\n"
     ]
    }
   ],
   "source": [
    "p = \"abc;def;ghi;jkl\"\n",
    "L =p.split(\";\")\n",
    "print(L)"
   ]
  },
  {
   "cell_type": "code",
   "execution_count": 148,
   "id": "d5a988af-a0e8-45b1-84e9-bafe44917dca",
   "metadata": {},
   "outputs": [
    {
     "data": {
      "text/plain": [
       "'def'"
      ]
     },
     "execution_count": 148,
     "metadata": {},
     "output_type": "execute_result"
    }
   ],
   "source": [
    "L[1]"
   ]
  },
  {
   "cell_type": "code",
   "execution_count": 156,
   "id": "8c90b87e-6583-4d1f-9d8b-f97eb4300c01",
   "metadata": {},
   "outputs": [
    {
     "data": {
      "text/plain": [
       "\u001b[1;31mSignature:\u001b[0m \u001b[0ma\u001b[0m\u001b[1;33m.\u001b[0m\u001b[0mcapitalize\u001b[0m\u001b[1;33m(\u001b[0m\u001b[1;33m)\u001b[0m\u001b[1;33m\u001b[0m\u001b[1;33m\u001b[0m\u001b[0m\n",
       "\u001b[1;31mDocstring:\u001b[0m\n",
       "Return a capitalized version of the string.\n",
       "\n",
       "More specifically, make the first character have upper case and the rest lower\n",
       "case.\n",
       "\u001b[1;31mType:\u001b[0m      builtin_function_or_method"
      ]
     },
     "metadata": {},
     "output_type": "display_data"
    }
   ],
   "source": [
    "a.capitalize?"
   ]
  },
  {
   "cell_type": "code",
   "execution_count": 158,
   "id": "745c996f-39ec-415c-a449-6a21fbdb8953",
   "metadata": {},
   "outputs": [
    {
     "data": {
      "text/plain": [
       "False"
      ]
     },
     "execution_count": 158,
     "metadata": {},
     "output_type": "execute_result"
    }
   ],
   "source": [
    "\"abc\" in \"awausdfhqwklsmiwufiwey\""
   ]
  },
  {
   "cell_type": "code",
   "execution_count": 190,
   "id": "df1c7262-40a6-45eb-a3d1-00fa7574d863",
   "metadata": {},
   "outputs": [
    {
     "data": {
      "text/plain": [
       "True"
      ]
     },
     "execution_count": 190,
     "metadata": {},
     "output_type": "execute_result"
    }
   ],
   "source": [
    "\"abc\" in \"asdwdwfafdjabcl\""
   ]
  },
  {
   "cell_type": "code",
   "execution_count": 192,
   "id": "da42316a-39a4-433a-b928-4d4e843132cb",
   "metadata": {},
   "outputs": [
    {
     "data": {
      "text/plain": [
       "False"
      ]
     },
     "execution_count": 192,
     "metadata": {},
     "output_type": "execute_result"
    }
   ],
   "source": [
    "\"def\"<\"abc\""
   ]
  },
  {
   "cell_type": "code",
   "execution_count": 194,
   "id": "ac6e94fc-1204-45d3-a3c8-6ea3145a11ad",
   "metadata": {},
   "outputs": [
    {
     "data": {
      "text/plain": [
       "True"
      ]
     },
     "execution_count": 194,
     "metadata": {},
     "output_type": "execute_result"
    }
   ],
   "source": [
    "\"abc\"<\"def\""
   ]
  }
 ],
 "metadata": {
  "kernelspec": {
   "display_name": "Python 3 (ipykernel)",
   "language": "python",
   "name": "python3"
  },
  "language_info": {
   "codemirror_mode": {
    "name": "ipython",
    "version": 3
   },
   "file_extension": ".py",
   "mimetype": "text/x-python",
   "name": "python",
   "nbconvert_exporter": "python",
   "pygments_lexer": "ipython3",
   "version": "3.12.7"
  }
 },
 "nbformat": 4,
 "nbformat_minor": 5
}
