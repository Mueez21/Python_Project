{
 "cells": [
  {
   "cell_type": "markdown",
   "id": "ce7ef66c-7554-4a33-8506-e6d573a88c6d",
   "metadata": {},
   "source": [
    "# Let say you are a teacher and you have different student records containing id of a student and the marks list in each subject where different students have taken different number of subjects. All these records are in hard copy. You want to enter all the data in computer and want to compute the average marks of each student and display"
   ]
  },
  {
   "cell_type": "code",
   "execution_count": 49,
   "id": "77dc1a8e-8d0f-42c6-80f6-7086eeb8ad75",
   "metadata": {},
   "outputs": [],
   "source": [
    "# This program collects student data (student IDs and their marks) \n",
    "# and calculates the average marks for each student. \n",
    "# It prevents duplicate entries for student IDs and ensures the data is properly handled.\n",
    "\n",
    "def getDataFromUser():\n",
    "    D = {}\n",
    "    while True:\n",
    "        studentId = input(\"Enter student ID: \")\n",
    "        markList = input(\"Enter the marks by comma for each subject: \")\n",
    "        moreStudents = input(\"'Yes/No' to proceed or quit insertion: \")\n",
    "\n",
    "        # Check for duplicate studentId\n",
    "        if studentId in D:\n",
    "            print(studentId, \"is already inserted\")\n",
    "        else:\n",
    "            D[studentId] = markList.split(\",\")\n",
    "        \n",
    "        # Handle whether to continue or quit\n",
    "        if moreStudents.lower() == \"yes\":\n",
    "            continue\n",
    "        elif moreStudents.lower() == \"no\":\n",
    "            return D\n",
    "        else:\n",
    "            print(\"Invalid input! Please enter 'Yes' or 'No'.\")"
   ]
  },
  {
   "cell_type": "code",
   "execution_count": 55,
   "id": "fc5af2f3-bd01-435c-bc86-73b5b915e4d5",
   "metadata": {},
   "outputs": [],
   "source": [
    "def getAvgMarks(D):\n",
    "    avgMarks = {}\n",
    "    for x in D:\n",
    "        L = D[x]\n",
    "        s = 0\n",
    "        for marks in L:\n",
    "            s += int(marks)\n",
    "        avgMarks[x] = s/len(L)\n",
    "    return avgMarks"
   ]
  },
  {
   "cell_type": "code",
   "execution_count": 53,
   "id": "cfa6d2f0-9aa1-457f-9093-da406a305a73",
   "metadata": {},
   "outputs": [
    {
     "ename": "NameError",
     "evalue": "name 'getAvgMarks' is not defined",
     "output_type": "error",
     "traceback": [
      "\u001b[1;31m---------------------------------------------------------------------------\u001b[0m",
      "\u001b[1;31mNameError\u001b[0m                                 Traceback (most recent call last)",
      "Cell \u001b[1;32mIn[53], line 1\u001b[0m\n\u001b[1;32m----> 1\u001b[0m avgM \u001b[38;5;241m=\u001b[39m getAvgMarks(studentData)\n\u001b[0;32m      3\u001b[0m \u001b[38;5;28;01mfor\u001b[39;00m x \u001b[38;5;129;01min\u001b[39;00m avgM:\n\u001b[0;32m      4\u001b[0m     \u001b[38;5;28mprint\u001b[39m(\u001b[38;5;124m\"\u001b[39m\u001b[38;5;124mStudent :\u001b[39m\u001b[38;5;124m\"\u001b[39m,x,\u001b[38;5;124m\"\u001b[39m\u001b[38;5;124mgot avg Marks as: \u001b[39m\u001b[38;5;124m\"\u001b[39m,avgM[x])\n",
      "\u001b[1;31mNameError\u001b[0m: name 'getAvgMarks' is not defined"
     ]
    }
   ],
   "source": [
    "avgM = getAvgMarks(studentData)\n",
    "\n",
    "for x in avgM:\n",
    "    print(\"Student :\",x,\"got avg Marks as: \",avgM[x])"
   ]
  },
  {
   "cell_type": "code",
   "execution_count": null,
   "id": "22375204-fa2f-42da-a230-2d4272c486f5",
   "metadata": {},
   "outputs": [],
   "source": []
  }
 ],
 "metadata": {
  "kernelspec": {
   "display_name": "Python 3 (ipykernel)",
   "language": "python",
   "name": "python3"
  },
  "language_info": {
   "codemirror_mode": {
    "name": "ipython",
    "version": 3
   },
   "file_extension": ".py",
   "mimetype": "text/x-python",
   "name": "python",
   "nbconvert_exporter": "python",
   "pygments_lexer": "ipython3",
   "version": "3.12.7"
  }
 },
 "nbformat": 4,
 "nbformat_minor": 5
}
